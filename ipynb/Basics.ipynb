{
 "cells": [
  {
   "cell_type": "markdown",
   "id": "binding-moral",
   "metadata": {},
   "source": [
    "# 基本的情報"
   ]
  },
  {
   "cell_type": "markdown",
   "id": "covered-crystal",
   "metadata": {},
   "source": [
    "## 機械学習の種類\n",
    "\n",
    "### 教師あり学習とは\n",
    "\n",
    "- 正解となるラベルデータ(`正解ラベル`)を必要とする学習\n",
    "- `説明変数`が`目的変数`を予測できるような、内部パラメーター(学習モデル)を求めること\n",
    "  - 説明変数\n",
    "    - 目的変数を説明するためのデータ\n",
    "    - 特徴データ、特徴量\n",
    "  - 目的変数\n",
    "    - タスクとなる課題に対して目的となるデータ\n",
    "    - 正解ラベルである目的のデータ\n",
    "\n",
    "### 教師あり学習の種類\n",
    "\n",
    "- (教師あり)回帰\n",
    "  - 目的変数(正解ラベル)が連続値となるデータ\n",
    "  - 参考書籍内で紹介されている例\n",
    "    - 線形回帰\n",
    "      - 重回帰\n",
    "- (教師あり)分類\n",
    "  - 目的変数がカテゴライズされたデータ\n",
    "  - 参考書籍内で紹介されている例\n",
    "    - サポートベクタマシンによる分類\n",
    "    - 決定木\n",
    "    - ランダムフォレスト\n",
    "\n",
    "### 教師なし学習とは\n",
    "\n",
    "- 正解ラベルを用いない方法\n",
    "\n",
    "### 教師なし学習の種類\n",
    "\n",
    "- クラスタリング\n",
    "  - 与えられたデータをグルーピングする手法\n",
    "  - 参考書籍内で紹介されている例\n",
    "    - k-means\n",
    "    - 階層的クラスタリング\n",
    "- 次元削減\n",
    "  - 説明変数(特徴量)の次元数を、より小さい次元数で言い表す手法\n",
    "  - 参考書籍内で紹介されている例\n",
    "    - 主成分分析\n",
    "\n",
    "### 強化学習とは\n",
    "\n",
    "- ブラックボックス的な環境の中で行動するエージェントが、得られる報酬を最大化するよう、状態に応じた行動を学習していく手法\n"
   ]
  },
  {
   "cell_type": "markdown",
   "id": "noble-marsh",
   "metadata": {},
   "source": [
    "## 機械学習関連の用語メモ\n",
    "\n",
    "### 勾配ブースティング(Gradient Boosting)\n",
    "\n",
    "- アンサンブル学習のアルゴリズム\n",
    "  - `アンサンブル学習`とは、複数の弱学習器を一つにまとめて学習する手法\n",
    "- 回帰・分類のどちらでも利用\n",
    "- フレームワークたち\n",
    "  - XGBoost(eXtreme Gradient Boosting)\n",
    "  - LightGBM\n",
    "  - Catboost\n",
    "\n",
    "### 正則化\n",
    "\n",
    "- 機会学習において、過学習を防ぐための手法\n",
    "  - 回帰モデル、ランダムフォレスト、さらにニューラルネットワーク等々で利用\n",
    "  - 損失関数（誤差関数）に正則化項を導入する\n",
    "- よく使われる手法\n",
    "  - L1正則化\n",
    "  - L2正則化\n"
   ]
  },
  {
   "cell_type": "markdown",
   "id": "piano-device",
   "metadata": {},
   "source": [
    "## Jupyter Notebookに関するメモ"
   ]
  },
  {
   "cell_type": "markdown",
   "id": "portuguese-eating",
   "metadata": {},
   "source": [
    "### マジックコマンド\n",
    "\n",
    "IPython kernelで提供されるマジックコマンドを、Notebook上で利用できる"
   ]
  },
  {
   "cell_type": "code",
   "execution_count": 1,
   "id": "circular-unemployment",
   "metadata": {},
   "outputs": [
    {
     "name": "stdout",
     "output_type": "stream",
     "text": [
      "155 µs ± 11.8 µs per loop (mean ± std. dev. of 10 runs, 1000 loops each)\n"
     ]
    }
   ],
   "source": [
    "# 「%timeit」は、1行のプログラムに対して計測\n",
    "%timeit -n 1000 -r 10 [x*x for x in range(1000)]"
   ]
  },
  {
   "cell_type": "code",
   "execution_count": 2,
   "id": "tamil-chance",
   "metadata": {},
   "outputs": [
    {
     "name": "stdout",
     "output_type": "stream",
     "text": [
      "154 µs ± 7.39 µs per loop (mean ± std. dev. of 10 runs, 1000 loops each)\n"
     ]
    }
   ],
   "source": [
    "%%timeit -n 1000 -r 10\n",
    "\n",
    "# 「%%timeit」は、セル全体の処理に対して計測\n",
    "ret = []\n",
    "for x in range(1000):\n",
    "    ret.append(x)"
   ]
  },
  {
   "cell_type": "markdown",
   "id": "figured-curtis",
   "metadata": {},
   "source": [
    "### シェルコマンド\n",
    "\n",
    "文頭に`!`を入れることで、シェルコマンドを実行できる"
   ]
  },
  {
   "cell_type": "code",
   "execution_count": 3,
   "id": "coordinated-canal",
   "metadata": {},
   "outputs": [
    {
     "name": "stdout",
     "output_type": "stream",
     "text": [
      "/home/jovyan/work\n"
     ]
    }
   ],
   "source": [
    "!pwd"
   ]
  }
 ],
 "metadata": {
  "kernelspec": {
   "display_name": "Python 3",
   "language": "python",
   "name": "python3"
  },
  "language_info": {
   "codemirror_mode": {
    "name": "ipython",
    "version": 3
   },
   "file_extension": ".py",
   "mimetype": "text/x-python",
   "name": "python",
   "nbconvert_exporter": "python",
   "pygments_lexer": "ipython3",
   "version": "3.8.8"
  },
  "toc-autonumbering": false,
  "toc-showmarkdowntxt": false
 },
 "nbformat": 4,
 "nbformat_minor": 5
}
