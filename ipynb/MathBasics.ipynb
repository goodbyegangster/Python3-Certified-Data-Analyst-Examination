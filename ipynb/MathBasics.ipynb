{
 "cells": [
  {
   "cell_type": "markdown",
   "id": "constitutional-pierre",
   "metadata": {},
   "source": [
    "# 数学の基礎"
   ]
  },
  {
   "cell_type": "code",
   "execution_count": 1,
   "id": "sustained-coach",
   "metadata": {},
   "outputs": [
    {
     "name": "stdout",
     "output_type": "stream",
     "text": [
      "3.8.8 | packaged by conda-forge | (default, Feb 20 2021, 16:22:27) \n",
      "[GCC 9.3.0]\n",
      "NumPy: 1.20.1\n",
      "Matplotlib: 3.3.4\n",
      "scipy: 1.6.1\n"
     ]
    }
   ],
   "source": [
    "import sys\n",
    "import numpy as np\n",
    "import matplotlib\n",
    "import matplotlib.pyplot as plt\n",
    "import scipy\n",
    "\n",
    "print(sys.version)\n",
    "print('NumPy: {}'.format(np.__version__))\n",
    "print('Matplotlib: {}'.format(matplotlib.__version__))\n",
    "print('scipy: {}'.format(scipy.__version__))\n",
    "\n",
    "matplotlib.style.use('ggplot')"
   ]
  },
  {
   "cell_type": "markdown",
   "id": "adopted-convention",
   "metadata": {},
   "source": [
    "## 集合の記号\n",
    "\n",
    "ある要素`x`が、集合`S`に属していること\n",
    "\n",
    "$\n",
    "\\displaystyle\n",
    "x \\in S\n",
    "$\n",
    "\n",
    "集合の表現\n",
    "\n",
    "A = {1, 2, 3, 4}<br>\n",
    "B = {2, 4, 6, 8}\n",
    "\n",
    "つまり、要素`8`は集合`B`に属している\n",
    "\n",
    "$\n",
    "\\displaystyle\n",
    "8 \\in B\n",
    "$\n",
    "\n",
    "つまり、要素`8`は集合`A`に属していない\n",
    "\n",
    "$\n",
    "\\displaystyle\n",
    "8 \\notin A\n",
    "$\n",
    "\n",
    "和集合の書き方\n",
    "\n",
    "$\n",
    "\\displaystyle\n",
    "A \\cup B = \\{1, 2, 3, 4, 6, 8\\}\n",
    "$\n",
    "\n",
    "積集合の書き方\n",
    "\n",
    "$\n",
    "\\displaystyle\n",
    "A \\cap B = \\{2, 4\\}\n",
    "$\n",
    "\n",
    "空集合の書き方\n",
    "\n",
    "$\n",
    "\\displaystyle\n",
    "C = \\emptyset\n",
    "$\n"
   ]
  },
  {
   "cell_type": "markdown",
   "id": "collectible-terrorist",
   "metadata": {},
   "source": [
    "## 特殊な定数"
   ]
  },
  {
   "cell_type": "markdown",
   "id": "focal-honor",
   "metadata": {},
   "source": [
    "### 円周率\n",
    "\n",
    "- 円の直径に対する円周の長さの比率\n",
    "  - 直径が1となる円の場合、円周が円周率の値となる\n",
    "- 3.1415..."
   ]
  },
  {
   "cell_type": "markdown",
   "id": "traditional-dating",
   "metadata": {},
   "source": [
    "### ネイピア数\n",
    "\n",
    "- `e`\n",
    "- 自然対数の底\n",
    "- 2.71828\n",
    "\n",
    "$\n",
    "\\displaystyle\n",
    "e = \\sum_{n=0}^{\\infty} = \\frac{i}{n!}\n",
    "$"
   ]
  },
  {
   "cell_type": "markdown",
   "id": "powered-tablet",
   "metadata": {},
   "source": [
    "### 階乗\n",
    "\n",
    "- `n!`\n",
    "- `n`から順番に1まで掛け算した値\n",
    "- `3!`の場合、`3 x 2 x 1 = 6`となる\n",
    "- ゼロの階乗(`0!`)は`1`である"
   ]
  },
  {
   "cell_type": "markdown",
   "id": "stainless-project",
   "metadata": {},
   "source": [
    "## 指数関数\n",
    "\n",
    "- 入力された値(変数)が、底の冪指数として扱われる関数\n",
    "\n",
    "以下は、底が2となる指数関数\n",
    "\n",
    "$\n",
    "\\displaystyle\n",
    "f(x) = 2^x\n",
    "$\n",
    "\n",
    "底をネイピア数とする関数がよく出てくる\n",
    "\n",
    "$\n",
    "\\displaystyle\n",
    "f(x) = e^x\n",
    "$\n"
   ]
  },
  {
   "cell_type": "code",
   "execution_count": 9,
   "id": "through-horizon",
   "metadata": {},
   "outputs": [
    {
     "data": {
      "image/png": "[encoded data removed]",
      "text/plain": [
       "<Figure size 432x288 with 1 Axes>"
      ]
     },
     "metadata": {},
     "output_type": "display_data"
    }
   ],
   "source": [
    "x = np.linspace(0, 10, 100)\n",
    "y = np.exp(x)\n",
    "\n",
    "fig, ax = plt.subplots()\n",
    "ax.plot(x, y)\n",
    "ax.set_title(\"f(x)=e^x\")\n",
    "ax.set_xlabel(\"x\")\n",
    "ax.set_ylabel(\"f(x)\")\n",
    "plt.show()"
   ]
  },
  {
   "cell_type": "markdown",
   "id": "electronic-fleece",
   "metadata": {},
   "source": [
    "### シグモイド関数\n",
    "\n",
    "- Deep Learningのニューラルネットワークで利用される\n",
    "\n",
    "$\n",
    "\\displaystyle\n",
    "f(x) = \\frac {1} {1 + e^{-x}}\n",
    "$\n"
   ]
  },
  {
   "cell_type": "code",
   "execution_count": 3,
   "id": "wireless-graph",
   "metadata": {},
   "outputs": [
    {
     "data": {
      "image/png": "[encoded data removed]",
      "text/plain": [
       "<Figure size 432x288 with 1 Axes>"
      ]
     },
     "metadata": {},
     "output_type": "display_data"
    }
   ],
   "source": [
    "x = np.linspace(-8, 8, 100)\n",
    "y = 1/(1+np.exp(-x))\n",
    "\n",
    "fig, ax = plt.subplots()\n",
    "ax.plot(x, y)\n",
    "ax.set_title(\"Sigmoid function\")\n",
    "ax.set_xlabel(\"x\")\n",
    "ax.set_ylabel(\"f(x)\")\n",
    "plt.show()"
   ]
  },
  {
   "cell_type": "markdown",
   "id": "demonstrated-upset",
   "metadata": {},
   "source": [
    "## 対数関数\n",
    "\n",
    "- 入力された値(変数)が、底の何乗であるか出力する関数\n",
    "\n",
    "以下は、底が2となる対数関数\n",
    "\n",
    "$\n",
    "\\displaystyle\n",
    "f(x) = log_2x\n",
    "$\n",
    "\n",
    "- 変数xに対して`8`が入力された場合、8は2の3乗となるため、出力結果は3となる\n",
    "- 1の対数は0となる\n",
    "\n",
    "### 常用対数\n",
    "\n",
    "- 底が10である対数関数のこと\n",
    "\n",
    "$\n",
    "\\displaystyle\n",
    "f(x) = log_{10}x\n",
    "$\n",
    "\n",
    "### 自然対数\n",
    "\n",
    "- 底がネイピア数である対数関数のこと\n",
    "\n",
    "$\n",
    "\\displaystyle\n",
    "f(x) = log_ex = lnx\n",
    "$\n",
    "\n",
    "$log_e$を`ln`と記載することもあり"
   ]
  },
  {
   "cell_type": "markdown",
   "id": "likely-boundary",
   "metadata": {},
   "source": [
    "## 三角関数\n",
    "\n",
    "[Youtube - 中学数学からはじめる三角関数](https://www.youtube.com/watch?v=OLqgs4fJl7Y)\n",
    "\n",
    "- sin\n",
    "  - 正弦\n",
    "- cos\n",
    "  - 余弦\n",
    "- tan\n",
    "  - 正接\n"
   ]
  },
  {
   "cell_type": "markdown",
   "id": "centered-lobby",
   "metadata": {},
   "source": [
    "## 双曲線関数\n",
    "\n",
    "[Youtube - 【大学数学】双曲線関数とは何か【解析学】](https://www.youtube.com/watch?v=Yvcngy6xtio)\n",
    "\n",
    "指数関数を使い、以下のように定義される関数のこと\n",
    "\n",
    "![双曲線関数](./img/hyperbolic_function.png)\n",
    "\n",
    "`ハイパボリックサイン`、`ハイパボリックコサイン`...と読む\n",
    "\n",
    "coshのグラフの形は、`カテナリー曲線`や`懸垂線`と呼ばれる"
   ]
  },
  {
   "cell_type": "code",
   "execution_count": 4,
   "id": "endless-guatemala",
   "metadata": {},
   "outputs": [
    {
     "data": {
      "image/png": "[encoded data removed]",
      "text/plain": [
       "<Figure size 432x288 with 1 Axes>"
      ]
     },
     "metadata": {},
     "output_type": "display_data"
    }
   ],
   "source": [
    "x = np.linspace(-5, 5, 40)\n",
    "y = np.cosh(x)\n",
    "\n",
    "fig, ax = plt.subplots()\n",
    "ax.plot(x, y)\n",
    "ax.set_title(\"catenary\")\n",
    "ax.set_xlabel(\"x\")\n",
    "ax.set_ylabel(\"cosh(x)\")\n",
    "ax.set_xlim([-5, 5])\n",
    "ax.set_ylim([-5, 5])\n",
    "plt.show()"
   ]
  },
  {
   "cell_type": "markdown",
   "id": "wound-veteran",
   "metadata": {},
   "source": [
    "## ベクトル\n",
    "\n",
    "### ベクトルの足し算\n",
    "\n",
    "$\n",
    "\\displaystyle\n",
    "\\vec{x}+\\vec{y}=\n",
    "\\begin{pmatrix}\n",
    "x_1 + y_1 \\\\\n",
    "x_2 + y_2 \\\\\n",
    "\\cdots \\\\\n",
    "x_n + y_n \\\\\n",
    "\\end{pmatrix}\n",
    "$\n",
    "\n",
    "### ベクトルの引き算\n",
    "\n",
    "$\n",
    "\\displaystyle\n",
    "\\vec{x}-\\vec{y}=\n",
    "\\begin{pmatrix}\n",
    "x_1 - y_1 \\\\\n",
    "x_2 - y_2 \\\\\n",
    "\\cdots \\\\\n",
    "x_n - y_n \\\\\n",
    "\\end{pmatrix}\n",
    "$\n",
    "\n",
    "### ベクトルとスカラーの掛け算\n",
    "\n",
    "$\n",
    "\\displaystyle\n",
    "a\\vec{x}=\n",
    "\\begin{pmatrix}\n",
    "ax_1 \\\\\n",
    "ax_2 \\\\\n",
    "\\cdots \\\\\n",
    "ax  \\\\\n",
    "\\end{pmatrix}\n",
    "$\n",
    "\n",
    "### ベクトルの内積\n",
    "\n",
    "$\n",
    "\\displaystyle\n",
    "\\vec{x}\\cdot\\vec{y} = \\sum_{i=1}^{n}x_iy_i = x_1y_1 + x_2y_2 + \\cdots + x_ny_n\n",
    "$\n",
    "\n",
    "ベクトルの内積を、ユークリッド距離(L2ノルム)で割ると、2つのベクトルが成す角度の余弦(cos)になる\n",
    "\n",
    "$\n",
    "\\displaystyle\n",
    "cos\\theta = \\frac {\\vec{x}\\cdot\\vec{y}} {||x||_1||y||_1}\n",
    "$\n",
    "\n"
   ]
  },
  {
   "cell_type": "markdown",
   "id": "occupied-change",
   "metadata": {},
   "source": [
    "## ノルム\n",
    "\n",
    "- 平面あるいは空間における幾何学的ベクトルの \"長さ\" の概念の一般化\n",
    "- ベクトル空間に対して「距離」を与えるための数学の道具\n",
    "- `ユークリッド距離(L2ノルム)`と`マンハッタン距離(L1ノルム)`がある\n",
    "\n",
    "![norm](./img/norm.png)\n",
    "\n",
    "### ユークリッド距離(L2ノルム)\n",
    "\n",
    "- ベクトルを、平面上の原点から直線距離で測るもの\n",
    "\n",
    "$\n",
    "\\displaystyle\n",
    "||x||_2 = \\sqrt{x_1^2 + x_2^2 + ... + x_n^2}\n",
    "$\n",
    "\n",
    "### マンハッタン距離(L1ノルム)\n",
    "\n",
    "- ベクトルを、平面上で座標軸に沿って測るもの\n",
    "\n",
    "$\n",
    "\\displaystyle\n",
    "||x||_1 = |x_1| + |x_2| + ... + |x_n|\n",
    "$\n"
   ]
  },
  {
   "cell_type": "markdown",
   "id": "still-warrant",
   "metadata": {},
   "source": [
    "## 行列\n",
    "\n",
    "$\n",
    "A = \n",
    "\\begin{pmatrix}\n",
    "11 & 12 & 13 \\\\\n",
    "21 & 22 & 23 \\\\\n",
    "\\end{pmatrix}\n",
    "$\n",
    "\n",
    "### 正方行列\n",
    "\n",
    "行(次元)と列(要素)の数が同じ行列\n",
    "\n",
    "$\n",
    "A = \n",
    "\\begin{pmatrix}\n",
    "11 & 12 & 13 \\\\\n",
    "21 & 22 & 23 \\\\\n",
    "31 & 32 & 33 \\\\\n",
    "\\end{pmatrix}\n",
    "$\n",
    "\n",
    "### 単位行列\n",
    "\n",
    "正方行列にて、左上から右下へ対角線上がすべて1で、残りがすべて0の行列\n",
    "\n",
    "$\n",
    "A = \n",
    "\\begin{pmatrix}\n",
    "1 & 0 & 0 \\\\\n",
    "0 & 1 & 0 \\\\\n",
    "0 & 0 & 1 \\\\\n",
    "\\end{pmatrix}\n",
    "$\n",
    "\n",
    "### 行列の加算・減算\n",
    "\n",
    "次元と要素の数が揃っている必要あり\n",
    "\n",
    "$\n",
    "\\begin{pmatrix}\n",
    "1 & 2 \\\\\n",
    "3 & 4 \\\\\n",
    "\\end{pmatrix}\n",
    "+\n",
    "\\begin{pmatrix}\n",
    "4 & 3 \\\\\n",
    "2 & 1 \\\\\n",
    "\\end{pmatrix}\n",
    "=\n",
    "\\begin{pmatrix}\n",
    "1+4 & 2+3 \\\\\n",
    "3+2 & 4+1 \\\\\n",
    "\\end{pmatrix}\n",
    "=\n",
    "\\begin{pmatrix}\n",
    "5 & 5 \\\\\n",
    "5 & 5 \\\\\n",
    "\\end{pmatrix}\n",
    "$\n",
    "\n",
    "### 行列の乗算\n",
    "\n",
    "行列とベクトル\n",
    "\n",
    "$\n",
    "\\begin{pmatrix}\n",
    "1 & 2 \\\\\n",
    "3 & 4 \\\\\n",
    "\\end{pmatrix}\n",
    "\\begin{pmatrix}\n",
    "5 \\\\\n",
    "6 \\\\\n",
    "\\end{pmatrix}\n",
    "=\n",
    "\\begin{pmatrix}\n",
    "1*5+2*6 \\\\\n",
    "3*5+4*6 \\\\\n",
    "\\end{pmatrix}\n",
    "=\n",
    "\\begin{pmatrix}\n",
    "17 \\\\\n",
    "39 \\\\\n",
    "\\end{pmatrix}\n",
    "$\n",
    "\n",
    "行列と行列\n",
    "\n",
    "$\n",
    "\\begin{pmatrix}\n",
    "1 & 2 \\\\\n",
    "3 & 4 \\\\\n",
    "\\end{pmatrix}\n",
    "\\begin{pmatrix}\n",
    "5 & 7 \\\\\n",
    "6 & 8 \\\\\n",
    "\\end{pmatrix}\n",
    "=\n",
    "\\begin{pmatrix}\n",
    "1*5+2*6 & 1*7+2*8 \\\\\n",
    "3*5+4*6 & 3*7+4*8 \\\\\n",
    "\\end{pmatrix}\n",
    "=\n",
    "\\begin{pmatrix}\n",
    "17 & 23 \\\\\n",
    "39 & 53 \\\\\n",
    "\\end{pmatrix}\n",
    "$\n",
    "\n",
    "一般的には、 `m x s`の行列に`s x n`の行列を掛けると、`m x n`の行列になる\n"
   ]
  },
  {
   "cell_type": "markdown",
   "id": "active-labor",
   "metadata": {},
   "source": [
    "## 微分と積分\n",
    "\n",
    "### 積分\n",
    "\n",
    "- 積分とは微分と対を成すもの\n",
    "- ある関数から得られる領域の面積を求めること\n",
    "\n",
    "`f(x)`という関数を、`a`から`b`まで積分する式は下記となる\n",
    "\n",
    "$\n",
    "\\displaystyle\n",
    "\\int_a^b f(x) dx\n",
    "$\n",
    "\n",
    "![定積分](./img/definite_integral.png)\n",
    "\n",
    "[統計WEB - 積分とは](https://bellcurve.jp/statistics/course/10188.html)\n",
    "\n",
    "$\\int$(インテグラル)の添字は、積分する範囲を定めており、積分する範囲が決まっている積分を`定積分`という\n",
    "\n",
    "範囲の決まっていない積分を`不定積分`という"
   ]
  },
  {
   "cell_type": "markdown",
   "id": "ordinary-techno",
   "metadata": {},
   "source": [
    "### 微分\n",
    "\n",
    "- 微分とは、ある関数の`導関数`を求めること\n",
    "  - `導関数`とは、関数の接線の`傾き`を表す関数のこと\n",
    "    - `傾き`とは、あるグラフと一点のみを共有する直線のこと\n",
    "  - また、大元の「ある関数」を`原始関数`と呼ぶ\n",
    "    - つまり関数`f(x)`の導関数は`f'(x)`となり、`f'(x)`の原始関数は`f(x)`となる\n",
    "    - `f(x)`を`F(x)`、`f'(x)`を`f(x)`と表現することもある\n",
    "\n",
    "例えば、$f(x)=x^2$の導関数は、$f'(x)=2x$となる"
   ]
  },
  {
   "cell_type": "code",
   "execution_count": 5,
   "id": "weighted-dinner",
   "metadata": {},
   "outputs": [
    {
     "data": {
      "image/png": "[encoded data removed]",
      "text/plain": [
       "<Figure size 432x288 with 1 Axes>"
      ]
     },
     "metadata": {},
     "output_type": "display_data"
    }
   ],
   "source": [
    "x = np.arange(-3, 3.1, 0.5)\n",
    "y1 = x**2\n",
    "y2 = x*2-1\n",
    "\n",
    "fig, ax = plt.subplots()\n",
    "ax.plot(x, y1)\n",
    "ax.plot(x, y2)\n",
    "plt.show()"
   ]
  },
  {
   "cell_type": "markdown",
   "id": "described-brick",
   "metadata": {},
   "source": [
    "上記グラフでは、赤色が原始関数、青色が導関数(つまり傾き)のグラフとなる"
   ]
  },
  {
   "cell_type": "markdown",
   "id": "hundred-punch",
   "metadata": {},
   "source": [
    "#### 簡単な微分公式\n",
    "\n",
    "とりあえず覚えておく超簡単な公式\n",
    "\n",
    "関数 $f(x)=x^2$ を微分する場合、以下の導関数が求められる\n",
    "\n",
    "$\n",
    "\\displaystyle\n",
    "f(x) = x^n \\longrightarrow f'(x) = nx^{n-1}\n",
    "$\n",
    "\n",
    "例えば、関数 $f(x)=x^3$ の導関数は $f'(x)=3x^2$ となり、$x=2$ の時の傾きは $12$ となる\n"
   ]
  },
  {
   "cell_type": "markdown",
   "id": "adapted-repair",
   "metadata": {},
   "source": [
    "### 偏微分\n",
    "\n",
    "- 多変数関数 $f(x_1, x_2, \\dots, x_n)$ の、ある一つの変数 $x_i$ 以外の変数の値を固定することで、$f$ を $x_i$ だけの関数とみたて、この関数を $x_i$ について微分すること\n",
    "  - 関数 $f$ を $x_i$ で偏微分する、という\n",
    "\n",
    "[sci-pursuit.com - の意味とやり方](https://sci-pursuit.com/math/partial-differential.html)"
   ]
  },
  {
   "cell_type": "markdown",
   "id": "persistent-compromise",
   "metadata": {},
   "source": [
    "## ばらつきの指標\n",
    "\n",
    "### 分散\n",
    "\n",
    "- 1種類のデータのばらつきを測る指標\n",
    "- 全てのデータの平均値からのズレを2乗して、データの個数で割った値\n",
    "\n",
    "$x_i$というn個のデータがあり、その平均を$\\bar{x}$とする場合、\n",
    "\n",
    "$\n",
    "\\displaystyle\n",
    "S_x^2 = \\frac{1}{n}\\sum_{i=1}^{n}(x_i-\\bar{x})^2\n",
    "$\n",
    "\n",
    "- 平均より大きいデータと小さいデータのズレが打ち消し合わないよう、２乗をしている\n"
   ]
  },
  {
   "cell_type": "markdown",
   "id": "neural-algorithm",
   "metadata": {},
   "source": [
    "### 標準偏差\n",
    "\n",
    "- これも、1種類のデータのばらつきを測る指標\n",
    "- 分散の非負の平方根の値\n",
    "\n",
    "$x_i$というn個のデータがあり、その平均を$\\bar{x}$とする場合、\n",
    "\n",
    "$\n",
    "\\displaystyle\n",
    "S_x = \\sqrt{\\frac{1}{n}\\sum_{i=1}^{n}(x_i-\\bar{x})^2}\n",
    "$\n"
   ]
  },
  {
   "cell_type": "markdown",
   "id": "adverse-routine",
   "metadata": {},
   "source": [
    "### 共分散\n",
    "\n",
    "- 2種類のデータ間のばらつきを測る指標\n",
    "- 2組の対応するデータ間での、平均からの偏差の積の平均値\n",
    "\n",
    "$x_i$と$y_i$というn個のデータがあり、その平均をそれぞれ$\\bar{x}$と$\\bar{y}$とする場合、\n",
    "\n",
    "$\n",
    "\\displaystyle\n",
    "S_{xy} = \\frac{1}{n}\\sum_{i=1}^{n}(x_i-\\bar{x})(y_i-\\bar{y})\n",
    "$\n"
   ]
  },
  {
   "cell_type": "markdown",
   "id": "advisory-oracle",
   "metadata": {},
   "source": [
    "### 相関係数(ピアソンの積率相関係数)\n",
    "\n",
    "- 共分散を2つの変数の標準偏差(分散の平方根)で割った値\n",
    "- -1から1までの間で変化する\n",
    "\n",
    "xとyの共分散である$S_{xy}$を、xとyの標準偏差$S_x$と$S_y$で割った値\n",
    "\n",
    "$\n",
    "\\displaystyle\n",
    "r_{xy} = \\frac{S_{xy}}{S_xS_y}\n",
    "$"
   ]
  },
  {
   "cell_type": "markdown",
   "id": "anticipated-brake",
   "metadata": {},
   "source": [
    "### スピアマンの順位相関係数\n",
    "\n",
    "- 順位データから求められる相関の指標\n",
    "- 2つの変数の分布について何も仮定せずに、変数の間の関係が任意の単調関数によってどの程度忠実に表現できるかを評価\n",
    "\n",
    "2組の対応するデータがn個あり、データ間の順位の差が$d_i$として、以下の数式となる\n",
    "\n",
    "$\n",
    "\\displaystyle\n",
    "p_{xy} = 1 - \\frac{6\\sum d_i^2} {n(n^2-1)}\n",
    "$\n"
   ]
  },
  {
   "cell_type": "markdown",
   "id": "seeing-monroe",
   "metadata": {},
   "source": [
    "## 確率"
   ]
  },
  {
   "cell_type": "markdown",
   "id": "modern-black",
   "metadata": {},
   "source": [
    "### 確率の基礎\n",
    "\n",
    "サイコロの`全事象`\n",
    "\n",
    "$\n",
    "\\displaystyle\n",
    "U = \\{1, 2, 3, 4, 5, 6\\}\n",
    "$\n",
    "\n",
    "「3」が出る確率をAとする時、\n",
    "\n",
    "$\n",
    "\\displaystyle\n",
    "P(A) = \\frac{1}{6}\n",
    "$\n",
    "\n",
    "「偶数」が出る確率をBとする時、Bは以下となり\n",
    "\n",
    "$\n",
    "\\displaystyle\n",
    "B = \\{2, 4, 6\\}\n",
    "$\n",
    "\n",
    "確率は以下となる\n",
    "\n",
    "$\n",
    "\\displaystyle\n",
    "P(B) = \\frac{3}{6} = \\frac{1}{2}\n",
    "$\n"
   ]
  },
  {
   "cell_type": "markdown",
   "id": "royal-origin",
   "metadata": {},
   "source": [
    "### 条件付き確率\n",
    "\n",
    "サイコロを振って、偶数が出ているという条件を事前に知っており(A)、「2」が出る事象は(B)、\n",
    "\n",
    "A、Bはそれぞれ以下となり、\n",
    "\n",
    "$\n",
    "\\displaystyle\n",
    "A = \\{2, 4, 6\\} \\\\\n",
    "B = \\{2\\} \\\\\n",
    "$\n",
    "\n",
    "確率は以下となる\n",
    "\n",
    "$\n",
    "\\displaystyle\n",
    "P_A(B) = \\frac{P(A \\cap B)}{P(A)} = \\frac {\\frac{1}{6}} {\\frac{1}{2}} = \\frac{1}{3}\n",
    "$\n"
   ]
  },
  {
   "cell_type": "markdown",
   "id": "animal-northwest",
   "metadata": {},
   "source": [
    "## 確率分布"
   ]
  },
  {
   "cell_type": "markdown",
   "id": "educated-airfare",
   "metadata": {},
   "source": [
    "### 確率変数と確率分布\n",
    "\n",
    "- 確率変数\n",
    "  - 起こりうることがらを値に取る変数（ふつうは実数や整数になる）\n",
    "- 確率分布\n",
    "  - 確率変数の値に対して、その値をとる確率の分布を表したもの\n",
    "\n",
    "例えば、`サイコロの出る目`を確立変数とする、サイコロの`確率分布`は以下となる\n",
    "\n",
    "| サイコロの出る目 | 1 | 2 | 3 | 4 | 5 | 6 |\n",
    "|:---|:---:|:---:|:---:|:---:|:---:|:---:|\n",
    "| 確率 | 1/6 | 1/6 | 1/6 | 1/6 | 1/6 | 1/6 |\n"
   ]
  },
  {
   "cell_type": "markdown",
   "id": "funny-billion",
   "metadata": {},
   "source": [
    "### 期待値\n",
    "\n",
    "確率変数と確率の積を、すべて足したもの\n",
    "\n",
    "確率変数を`x`、確率変数それぞれの確率を`p`とする時、期待値`E(X)`は、\n",
    "\n",
    "$\n",
    "\\displaystyle\n",
    "E(X) = x_1p_1 + x_1p_1 + \\dots + x_np_n = \\sum_{i=1}^{n}x_np_n\n",
    "$\n",
    "\n",
    "サイコロの期待値は「3.5」となり、これはデータの平均と同じになる\n"
   ]
  },
  {
   "cell_type": "markdown",
   "id": "brief-jerusalem",
   "metadata": {},
   "source": [
    "## 確率と関数\n",
    "\n",
    "- 確率変数と確率の対応関係を関数として捉える\n",
    "- つまり、確率変数を引数にとり値を返す関数、みたいな\n",
    "- 種類\n",
    "  - 確率質量関数\n",
    "    - 確率変数が離散型の場合の関数\n",
    "    - 確率を求める\n",
    "  - 確率密度関数\n",
    "    - 確率変数が連続型の場合の関数\n",
    "    - 確率密度(確率変数の分布みたいなイメージ？)を求める\n"
   ]
  },
  {
   "cell_type": "markdown",
   "id": "excess-adoption",
   "metadata": {},
   "source": [
    "### 離散一様分布での確率質量関数\n",
    "\n",
    "- 離散一様分布とは、「有限集合の全ての値について、確率が等しく確からしい場合」の分布のこと\n",
    "- 例えば、サイコロの出る目の確率のこと\n",
    "\n",
    "確率変数が取りうる値が`n`個あり、確率変数の最小値が`a`、最大値が`b`である場合、確率質量関数は以下と定義される\n",
    "\n",
    "$\n",
    "\\displaystyle\n",
    "f(x) = \\begin{cases}\n",
    "\\frac{1}{n}, ~ a \\leq x \\leq b \\\\\n",
    "0, ~ other \\end{cases}\n",
    "$\n",
    "\n",
    "期待値は以下にて求められる\n",
    "\n",
    "$\n",
    "\\displaystyle\n",
    "\\frac {a+b} {2}\n",
    "$\n",
    "\n",
    "サイコロの期待値を計算すると「3.5」になる\n"
   ]
  },
  {
   "cell_type": "markdown",
   "id": "piano-sheet",
   "metadata": {},
   "source": [
    "### 確率密度関数\n",
    "\n",
    "確率密度(確率の分布)として、代表的なものが `一般正規分布(ガウス分布)`がある\n",
    "\n",
    "一般正規分布の確率密度関数は、以下の式で定義される\n",
    "\n",
    "$\n",
    "\\displaystyle\n",
    "f(x) = \\frac {1} {\\sqrt{2\\pi}} e^{-\\frac{x^2}{2}}\n",
    "$\n",
    "\n",
    "グラフでは以下となる"
   ]
  },
  {
   "cell_type": "code",
   "execution_count": 10,
   "id": "hispanic-shopper",
   "metadata": {},
   "outputs": [
    {
     "data": {
      "image/png": "[encoded data removed]",
      "text/plain": [
       "<Figure size 432x288 with 1 Axes>"
      ]
     },
     "metadata": {},
     "output_type": "display_data"
    }
   ],
   "source": [
    "from scipy.stats import norm\n",
    "\n",
    "# X軸\n",
    "X = np.arange(-5, 5, 0.1)\n",
    "# 平均0、標準偏差1の正規分布を作成\n",
    "Y = norm.pdf(X, loc=0, scale=1)\n",
    " \n",
    "# プロットする\n",
    "fig, ax = plt.subplots()\n",
    "ax.plot(X, Y)\n",
    "ax.set_xlabel('X')\n",
    "ax.set_ylabel('Y')\n",
    "plt.show()"
   ]
  },
  {
   "cell_type": "markdown",
   "id": "obvious-penny",
   "metadata": {},
   "source": [
    "ある区間の確率を求めたい場合、上記の確率密度関数を積分することで求められる\n",
    "\n",
    "確率変数`X`の確率は、確率密度関数が`f(x)`であるとして、以下の積分の式で求められる\n",
    "\n",
    "$\n",
    "\\displaystyle\n",
    "P(a \\leq X \\leq b) = \\int_a^b f(x) dx\n",
    "$\n"
   ]
  }
 ],
 "metadata": {
  "kernelspec": {
   "display_name": "Python 3",
   "language": "python",
   "name": "python3"
  },
  "language_info": {
   "codemirror_mode": {
    "name": "ipython",
    "version": 3
   },
   "file_extension": ".py",
   "mimetype": "text/x-python",
   "name": "python",
   "nbconvert_exporter": "python",
   "pygments_lexer": "ipython3",
   "version": "3.8.8"
  },
  "toc-autonumbering": false,
  "toc-showmarkdowntxt": false
 },
 "nbformat": 4,
 "nbformat_minor": 5
}
