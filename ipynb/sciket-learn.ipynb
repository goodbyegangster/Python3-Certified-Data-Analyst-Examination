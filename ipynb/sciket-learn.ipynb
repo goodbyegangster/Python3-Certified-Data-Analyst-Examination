{
 "cells": [
  {
   "cell_type": "markdown",
   "id": "banned-reporter",
   "metadata": {},
   "source": [
    "# sciket-learn"
   ]
  },
  {
   "cell_type": "code",
   "execution_count": 1,
   "id": "defensive-nelson",
   "metadata": {},
   "outputs": [
    {
     "name": "stdout",
     "output_type": "stream",
     "text": [
      "3.8.8 | packaged by conda-forge | (default, Feb 20 2021, 16:22:27) \n",
      "[GCC 9.3.0]\n",
      "NumPy: 1.20.1\n",
      "pandas: 1.2.3\n",
      "Matplotlib: 3.3.4\n",
      "sciket-learn: 0.24.1\n",
      "scipy: 1.6.1\n"
     ]
    }
   ],
   "source": [
    "import sys\n",
    "import numpy as np\n",
    "import pandas as pd\n",
    "import matplotlib\n",
    "import matplotlib.pyplot as plt\n",
    "import sklearn\n",
    "import scipy\n",
    "from IPython.display import HTML\n",
    "\n",
    "print(sys.version)\n",
    "print('NumPy: {}'.format(np.__version__))\n",
    "print('pandas: {}'.format(pd.__version__))\n",
    "print('Matplotlib: {}'.format(matplotlib.__version__))\n",
    "print('sciket-learn: {}'.format(sklearn.__version__))\n",
    "print('scipy: {}'.format(scipy.__version__))\n",
    "\n",
    "matplotlib.style.use('ggplot')"
   ]
  },
  {
   "cell_type": "code",
   "execution_count": 2,
   "id": "sealed-official",
   "metadata": {},
   "outputs": [
    {
     "data": {
      "text/html": [
       "<style>\n",
       "table {float:left}\n",
       "</style>\n"
      ],
      "text/plain": [
       "<IPython.core.display.HTML object>"
      ]
     },
     "metadata": {},
     "output_type": "display_data"
    }
   ],
   "source": [
    "%%html\n",
    "<style>\n",
    "table {float:left}\n",
    "</style>"
   ]
  },
  {
   "cell_type": "markdown",
   "id": "determined-stretch",
   "metadata": {},
   "source": [
    "## 欠損値への対応"
   ]
  },
  {
   "cell_type": "code",
   "execution_count": 3,
   "id": "unable-sport",
   "metadata": {},
   "outputs": [
    {
     "data": {
      "text/html": [
       "<div>\n",
       "<style scoped>\n",
       "    .dataframe tbody tr th:only-of-type {\n",
       "        vertical-align: middle;\n",
       "    }\n",
       "\n",
       "    .dataframe tbody tr th {\n",
       "        vertical-align: top;\n",
       "    }\n",
       "\n",
       "    .dataframe thead th {\n",
       "        text-align: right;\n",
       "    }\n",
       "</style>\n",
       "<table border=\"1\" class=\"dataframe\">\n",
       "  <thead>\n",
       "    <tr style=\"text-align: right;\">\n",
       "      <th></th>\n",
       "      <th>A</th>\n",
       "      <th>B</th>\n",
       "      <th>C</th>\n",
       "    </tr>\n",
       "  </thead>\n",
       "  <tbody>\n",
       "    <tr>\n",
       "      <th>0</th>\n",
       "      <td>1.0</td>\n",
       "      <td>6.0</td>\n",
       "      <td>11</td>\n",
       "    </tr>\n",
       "    <tr>\n",
       "      <th>1</th>\n",
       "      <td>NaN</td>\n",
       "      <td>7.0</td>\n",
       "      <td>12</td>\n",
       "    </tr>\n",
       "    <tr>\n",
       "      <th>2</th>\n",
       "      <td>3.0</td>\n",
       "      <td>8.0</td>\n",
       "      <td>13</td>\n",
       "    </tr>\n",
       "    <tr>\n",
       "      <th>3</th>\n",
       "      <td>4.0</td>\n",
       "      <td>NaN</td>\n",
       "      <td>14</td>\n",
       "    </tr>\n",
       "    <tr>\n",
       "      <th>4</th>\n",
       "      <td>5.0</td>\n",
       "      <td>10.0</td>\n",
       "      <td>15</td>\n",
       "    </tr>\n",
       "  </tbody>\n",
       "</table>\n",
       "</div>"
      ],
      "text/plain": [
       "     A     B   C\n",
       "0  1.0   6.0  11\n",
       "1  NaN   7.0  12\n",
       "2  3.0   8.0  13\n",
       "3  4.0   NaN  14\n",
       "4  5.0  10.0  15"
      ]
     },
     "execution_count": 3,
     "metadata": {},
     "output_type": "execute_result"
    }
   ],
   "source": [
    "# データの用意\n",
    "df = pd.DataFrame(\n",
    "    {\n",
    "        'A': [1, np.nan, 3, 4, 5],\n",
    "        'B': [6, 7, 8, np.nan, 10],\n",
    "        'C': [11, 12, 13, 14, 15]\n",
    "    }\n",
    ")\n",
    "df"
   ]
  },
  {
   "cell_type": "markdown",
   "id": "early-youth",
   "metadata": {},
   "source": [
    "### 欠損値の除去\n",
    "\n",
    "pandasを利用して実行する例"
   ]
  },
  {
   "cell_type": "code",
   "execution_count": 4,
   "id": "domestic-semiconductor",
   "metadata": {},
   "outputs": [
    {
     "data": {
      "text/html": [
       "<div>\n",
       "<style scoped>\n",
       "    .dataframe tbody tr th:only-of-type {\n",
       "        vertical-align: middle;\n",
       "    }\n",
       "\n",
       "    .dataframe tbody tr th {\n",
       "        vertical-align: top;\n",
       "    }\n",
       "\n",
       "    .dataframe thead th {\n",
       "        text-align: right;\n",
       "    }\n",
       "</style>\n",
       "<table border=\"1\" class=\"dataframe\">\n",
       "  <thead>\n",
       "    <tr style=\"text-align: right;\">\n",
       "      <th></th>\n",
       "      <th>A</th>\n",
       "      <th>B</th>\n",
       "      <th>C</th>\n",
       "    </tr>\n",
       "  </thead>\n",
       "  <tbody>\n",
       "    <tr>\n",
       "      <th>0</th>\n",
       "      <td>False</td>\n",
       "      <td>False</td>\n",
       "      <td>False</td>\n",
       "    </tr>\n",
       "    <tr>\n",
       "      <th>1</th>\n",
       "      <td>True</td>\n",
       "      <td>False</td>\n",
       "      <td>False</td>\n",
       "    </tr>\n",
       "    <tr>\n",
       "      <th>2</th>\n",
       "      <td>False</td>\n",
       "      <td>False</td>\n",
       "      <td>False</td>\n",
       "    </tr>\n",
       "    <tr>\n",
       "      <th>3</th>\n",
       "      <td>False</td>\n",
       "      <td>True</td>\n",
       "      <td>False</td>\n",
       "    </tr>\n",
       "    <tr>\n",
       "      <th>4</th>\n",
       "      <td>False</td>\n",
       "      <td>False</td>\n",
       "      <td>False</td>\n",
       "    </tr>\n",
       "  </tbody>\n",
       "</table>\n",
       "</div>"
      ],
      "text/plain": [
       "       A      B      C\n",
       "0  False  False  False\n",
       "1   True  False  False\n",
       "2  False  False  False\n",
       "3  False   True  False\n",
       "4  False  False  False"
      ]
     },
     "execution_count": 4,
     "metadata": {},
     "output_type": "execute_result"
    }
   ],
   "source": [
    "# 各要素の欠損値を確認する\n",
    "df.isnull()"
   ]
  },
  {
   "cell_type": "code",
   "execution_count": 5,
   "id": "likely-recipe",
   "metadata": {},
   "outputs": [
    {
     "data": {
      "text/html": [
       "<div>\n",
       "<style scoped>\n",
       "    .dataframe tbody tr th:only-of-type {\n",
       "        vertical-align: middle;\n",
       "    }\n",
       "\n",
       "    .dataframe tbody tr th {\n",
       "        vertical-align: top;\n",
       "    }\n",
       "\n",
       "    .dataframe thead th {\n",
       "        text-align: right;\n",
       "    }\n",
       "</style>\n",
       "<table border=\"1\" class=\"dataframe\">\n",
       "  <thead>\n",
       "    <tr style=\"text-align: right;\">\n",
       "      <th></th>\n",
       "      <th>A</th>\n",
       "      <th>B</th>\n",
       "      <th>C</th>\n",
       "    </tr>\n",
       "  </thead>\n",
       "  <tbody>\n",
       "    <tr>\n",
       "      <th>0</th>\n",
       "      <td>1.0</td>\n",
       "      <td>6.0</td>\n",
       "      <td>11</td>\n",
       "    </tr>\n",
       "    <tr>\n",
       "      <th>2</th>\n",
       "      <td>3.0</td>\n",
       "      <td>8.0</td>\n",
       "      <td>13</td>\n",
       "    </tr>\n",
       "    <tr>\n",
       "      <th>4</th>\n",
       "      <td>5.0</td>\n",
       "      <td>10.0</td>\n",
       "      <td>15</td>\n",
       "    </tr>\n",
       "  </tbody>\n",
       "</table>\n",
       "</div>"
      ],
      "text/plain": [
       "     A     B   C\n",
       "0  1.0   6.0  11\n",
       "2  3.0   8.0  13\n",
       "4  5.0  10.0  15"
      ]
     },
     "execution_count": 5,
     "metadata": {},
     "output_type": "execute_result"
    }
   ],
   "source": [
    "# 欠損値の行を削除\n",
    "df.dropna()"
   ]
  },
  {
   "cell_type": "markdown",
   "id": "adjusted-february",
   "metadata": {},
   "source": [
    "### 欠損値の補完\n",
    "\n",
    "pandasでは`fillna`メソッドを利用することになるが、sciket-learnでの手順を確認"
   ]
  },
  {
   "cell_type": "code",
   "execution_count": 6,
   "id": "hourly-belize",
   "metadata": {},
   "outputs": [
    {
     "data": {
      "text/plain": [
       "array([[ 1.  ,  6.  , 11.  ],\n",
       "       [ 3.25,  7.  , 12.  ],\n",
       "       [ 3.  ,  8.  , 13.  ],\n",
       "       [ 4.  ,  7.75, 14.  ],\n",
       "       [ 5.  , 10.  , 15.  ]])"
      ]
     },
     "execution_count": 6,
     "metadata": {},
     "output_type": "execute_result"
    }
   ],
   "source": [
    "from sklearn.impute import SimpleImputer\n",
    "\n",
    "# 列に対して、平均値の値で補完をするImputerインスタンスを作成\n",
    "imp = SimpleImputer(missing_values=np.nan, strategy='mean')\n",
    "imp.fit(df)\n",
    "imp.transform(df)"
   ]
  },
  {
   "cell_type": "markdown",
   "id": "grand-hampton",
   "metadata": {},
   "source": [
    "[sklearn.impute.SimpleImputer](https://scikit-learn.org/stable/modules/generated/sklearn.impute.SimpleImputer.html)\n",
    "\n",
    "> **strategystring, default=’mean’**  \n",
    "> The imputation strategy.  \n",
    ">  \n",
    "> ・If “mean”, then replace missing values using the mean along each column. Can only be used with numeric data.  \n",
    "> ・If “median”, then replace missing values using the median along each column. Can only be used with numeric data.  \n",
    "> ・If “most_frequent”, then replace missing using the most frequent value along each column. Can be used with strings or numeric data. If there is more than one such value, only the smallest is returned.  \n",
    "> ・If “constant”, then replace missing values with fill_value. Can be used with strings or numeric data.  "
   ]
  },
  {
   "cell_type": "markdown",
   "id": "veterinary-conviction",
   "metadata": {},
   "source": [
    "## カテゴリ変数のエンコーディング\n",
    "\n",
    "- カテゴリ変数のエンコーディング\n",
    "  - カテゴリ変数を数値(整数)に変換する処理\n",
    "  - 例えば\n",
    "    - 「a」を「0」に、「b」を「1」に、のように変換する\n",
    "- One-hotエンコーディング\n",
    "  - カテゴリ変数を符号化する処理\n",
    "    - pandasにおける`get_dummies`関数のような処理のこと\n",
    "  - `ダミー変数化`とも言う\n",
    "    - 生成された列の変数を`ダミー変数`と言う"
   ]
  },
  {
   "cell_type": "code",
   "execution_count": 7,
   "id": "diverse-interference",
   "metadata": {},
   "outputs": [
    {
     "data": {
      "text/html": [
       "<div>\n",
       "<style scoped>\n",
       "    .dataframe tbody tr th:only-of-type {\n",
       "        vertical-align: middle;\n",
       "    }\n",
       "\n",
       "    .dataframe tbody tr th {\n",
       "        vertical-align: top;\n",
       "    }\n",
       "\n",
       "    .dataframe thead th {\n",
       "        text-align: right;\n",
       "    }\n",
       "</style>\n",
       "<table border=\"1\" class=\"dataframe\">\n",
       "  <thead>\n",
       "    <tr style=\"text-align: right;\">\n",
       "      <th></th>\n",
       "      <th>A</th>\n",
       "      <th>B</th>\n",
       "    </tr>\n",
       "  </thead>\n",
       "  <tbody>\n",
       "    <tr>\n",
       "      <th>0</th>\n",
       "      <td>1</td>\n",
       "      <td>a</td>\n",
       "    </tr>\n",
       "    <tr>\n",
       "      <th>1</th>\n",
       "      <td>2</td>\n",
       "      <td>b</td>\n",
       "    </tr>\n",
       "    <tr>\n",
       "      <th>2</th>\n",
       "      <td>3</td>\n",
       "      <td>a</td>\n",
       "    </tr>\n",
       "    <tr>\n",
       "      <th>3</th>\n",
       "      <td>4</td>\n",
       "      <td>b</td>\n",
       "    </tr>\n",
       "    <tr>\n",
       "      <th>4</th>\n",
       "      <td>5</td>\n",
       "      <td>c</td>\n",
       "    </tr>\n",
       "  </tbody>\n",
       "</table>\n",
       "</div>"
      ],
      "text/plain": [
       "   A  B\n",
       "0  1  a\n",
       "1  2  b\n",
       "2  3  a\n",
       "3  4  b\n",
       "4  5  c"
      ]
     },
     "execution_count": 7,
     "metadata": {},
     "output_type": "execute_result"
    }
   ],
   "source": [
    "# データの用意\n",
    "df = pd.DataFrame(\n",
    "    {\n",
    "        'A': [1, 2, 3, 4, 5],\n",
    "        'B': ['a', 'b', 'a', 'b', 'c']\n",
    "    }\n",
    ")\n",
    "df"
   ]
  },
  {
   "cell_type": "markdown",
   "id": "martial-earth",
   "metadata": {},
   "source": [
    "### カテゴリ変数のエンコーディング\n",
    "\n",
    "[sklearn.preprocessing.LabelEncoder](https://scikit-learn.org/stable/modules/generated/sklearn.preprocessing.LabelEncoder.html)"
   ]
  },
  {
   "cell_type": "code",
   "execution_count": 8,
   "id": "prostate-madagascar",
   "metadata": {},
   "outputs": [
    {
     "data": {
      "text/plain": [
       "array([0, 1, 0, 1, 2])"
      ]
     },
     "execution_count": 8,
     "metadata": {},
     "output_type": "execute_result"
    }
   ],
   "source": [
    "from sklearn.preprocessing import LabelEncoder\n",
    "\n",
    "# LabelEncoderのインスタンスを作成 \n",
    "le = LabelEncoder()\n",
    "# B列に対して、エンコーディングを実施\n",
    "le.fit(df['B'])\n",
    "le.transform(df['B'])"
   ]
  },
  {
   "cell_type": "markdown",
   "id": "three-yesterday",
   "metadata": {},
   "source": [
    "### One-hotエンコーディング\n",
    "\n",
    "[skleran.compose.ColumnTransformer](https://scikit-learn.org/stable/modules/generated/sklearn.compose.ColumnTransformer.html)\n",
    "\n",
    "> Applies transformers to columns of an array or pandas DataFrame.  \n",
    "> This estimator allows different columns or column subsets of the input to be transformed separately and the features generated by each transformer will be concatenated to form a single feature space. This is useful for heterogeneous or columnar data, to combine several feature extraction mechanisms or transformations into a single transformer.\n",
    "\n",
    "[sklearn.preprocessing.OneHotEncoder](https://scikit-learn.org/stable/modules/generated/sklearn.preprocessing.OneHotEncoder.html)\n",
    "\n",
    "> Encode categorical features as a one-hot numeric array.  \n",
    "> The input to this transformer should be an array-like of integers or strings, denoting the values taken on by categorical (discrete) features. The features are encoded using a one-hot (aka ‘one-of-K’ or ‘dummy’) encoding scheme.\n",
    "\n",
    "pandasでは`get_dummies`関数で実現できるが、sciket-learnでの手順を確認"
   ]
  },
  {
   "cell_type": "code",
   "execution_count": 9,
   "id": "solar-navigation",
   "metadata": {},
   "outputs": [
    {
     "data": {
      "text/plain": [
       "array([[1., 0., 0., 1.],\n",
       "       [0., 1., 0., 2.],\n",
       "       [1., 0., 0., 3.],\n",
       "       [0., 1., 0., 4.],\n",
       "       [0., 0., 1., 5.]])"
      ]
     },
     "execution_count": 9,
     "metadata": {},
     "output_type": "execute_result"
    }
   ],
   "source": [
    "from sklearn.compose import ColumnTransformer\n",
    "from sklearn.preprocessing import OneHotEncoder\n",
    "\n",
    "# DataFrameをコピー\n",
    "df_ohe = df.copy()\n",
    "\n",
    "# ColumnTransformerのインスタンス化\n",
    "column_trans = ColumnTransformer(transformers=[('test', OneHotEncoder(), ['B'])], remainder='passthrough')\n",
    "# 変換(値をOneHotEncoderしつつ、ColumnTransformerしてくれる)\n",
    "column_trans.fit_transform(df_ohe)"
   ]
  },
  {
   "cell_type": "markdown",
   "id": "checked-print",
   "metadata": {},
   "source": [
    "- 疎行列(sparse matrix)\n",
    "  - 成分のほとんどが0である行列のこと\n",
    "  - 上記のダミー変数化された行列のようなもの\n",
    "- 密行列\n",
    "  - 成分のほとんどが1である行列のこと"
   ]
  },
  {
   "cell_type": "markdown",
   "id": "generic-barbados",
   "metadata": {},
   "source": [
    "## 特徴量の正規化\n",
    "特徴量の大きさ(尺度)を揃える処理\n",
    "- 分散正規化\n",
    "  - 特徴量の平均が0、標準偏差が1となるように、特徴量を変換\n",
    "- 最小最大正規化\n",
    "  - 特徴量の最小値が0、最大値が1となるように、特徴量を変換"
   ]
  },
  {
   "cell_type": "code",
   "execution_count": 10,
   "id": "crucial-classics",
   "metadata": {},
   "outputs": [
    {
     "data": {
      "text/html": [
       "<div>\n",
       "<style scoped>\n",
       "    .dataframe tbody tr th:only-of-type {\n",
       "        vertical-align: middle;\n",
       "    }\n",
       "\n",
       "    .dataframe tbody tr th {\n",
       "        vertical-align: top;\n",
       "    }\n",
       "\n",
       "    .dataframe thead th {\n",
       "        text-align: right;\n",
       "    }\n",
       "</style>\n",
       "<table border=\"1\" class=\"dataframe\">\n",
       "  <thead>\n",
       "    <tr style=\"text-align: right;\">\n",
       "      <th></th>\n",
       "      <th>A</th>\n",
       "      <th>B</th>\n",
       "    </tr>\n",
       "  </thead>\n",
       "  <tbody>\n",
       "    <tr>\n",
       "      <th>0</th>\n",
       "      <td>1</td>\n",
       "      <td>100</td>\n",
       "    </tr>\n",
       "    <tr>\n",
       "      <th>1</th>\n",
       "      <td>2</td>\n",
       "      <td>200</td>\n",
       "    </tr>\n",
       "    <tr>\n",
       "      <th>2</th>\n",
       "      <td>3</td>\n",
       "      <td>300</td>\n",
       "    </tr>\n",
       "    <tr>\n",
       "      <th>3</th>\n",
       "      <td>4</td>\n",
       "      <td>400</td>\n",
       "    </tr>\n",
       "    <tr>\n",
       "      <th>4</th>\n",
       "      <td>5</td>\n",
       "      <td>500</td>\n",
       "    </tr>\n",
       "  </tbody>\n",
       "</table>\n",
       "</div>"
      ],
      "text/plain": [
       "   A    B\n",
       "0  1  100\n",
       "1  2  200\n",
       "2  3  300\n",
       "3  4  400\n",
       "4  5  500"
      ]
     },
     "execution_count": 10,
     "metadata": {},
     "output_type": "execute_result"
    }
   ],
   "source": [
    "# データの用意\n",
    "df = pd.DataFrame(\n",
    "    {\n",
    "        'A': [1, 2, 3, 4, 5],\n",
    "        'B': [100, 200, 300, 400, 500]\n",
    "    }\n",
    ")\n",
    "df"
   ]
  },
  {
   "cell_type": "markdown",
   "id": "expected-elite",
   "metadata": {},
   "source": [
    "### 分散正規化\n",
    "[sklearn.preprocessing.StandardScaler](https://scikit-learn.org/stable/modules/generated/sklearn.preprocessing.StandardScaler.html?highlight=standardscaler#sklearn.preprocessing.StandardScaler)"
   ]
  },
  {
   "cell_type": "code",
   "execution_count": 11,
   "id": "prospective-event",
   "metadata": {},
   "outputs": [
    {
     "data": {
      "text/plain": [
       "array([[-1.41421356, -1.41421356],\n",
       "       [-0.70710678, -0.70710678],\n",
       "       [ 0.        ,  0.        ],\n",
       "       [ 0.70710678,  0.70710678],\n",
       "       [ 1.41421356,  1.41421356]])"
      ]
     },
     "execution_count": 11,
     "metadata": {},
     "output_type": "execute_result"
    }
   ],
   "source": [
    "from sklearn.preprocessing import StandardScaler\n",
    "\n",
    "# 分散正規化のインスタンスを作成\n",
    "stdsc = StandardScaler()\n",
    "\n",
    "# 分散正規化を実行\n",
    "stdsc.fit(df)\n",
    "stdsc.transform(df)"
   ]
  },
  {
   "cell_type": "markdown",
   "id": "gentle-world",
   "metadata": {},
   "source": [
    "### 最小最大正規化\n",
    "[sklearn.preprocessing.MinMaxScaler](https://scikit-learn.org/stable/modules/generated/sklearn.preprocessing.MinMaxScaler.html?highlight=minmaxscaler#sklearn.preprocessing.MinMaxScaler)"
   ]
  },
  {
   "cell_type": "code",
   "execution_count": 12,
   "id": "built-placement",
   "metadata": {},
   "outputs": [
    {
     "data": {
      "text/plain": [
       "array([[0.  , 0.  ],\n",
       "       [0.25, 0.25],\n",
       "       [0.5 , 0.5 ],\n",
       "       [0.75, 0.75],\n",
       "       [1.  , 1.  ]])"
      ]
     },
     "execution_count": 12,
     "metadata": {},
     "output_type": "execute_result"
    }
   ],
   "source": [
    "from sklearn.preprocessing import MinMaxScaler\n",
    "\n",
    "# 最小最大正規化のインスタンスを作成\n",
    "mmsc = MinMaxScaler()\n",
    "\n",
    "# 最小最大正規化を実行\n",
    "mmsc.fit(df)\n",
    "mmsc.transform(df)"
   ]
  },
  {
   "cell_type": "markdown",
   "id": "decimal-average",
   "metadata": {},
   "source": [
    "## 学習データとテストデータ\n",
    "\n",
    "- 学習データ\n",
    "  - データセットより、モデル学習用に用意したデータ\n",
    "- テストデータ\n",
    "  - データセットより、作成モデルの検証用に用意したデータ\n",
    "  - 未知データに対する対応能力(`汎化能力`)を評価"
   ]
  },
  {
   "cell_type": "markdown",
   "id": "necessary-reservation",
   "metadata": {},
   "source": [
    "### sciket-learnにおける学習データとテストデータの分割\n",
    "\n",
    "[sklearn.model_selection.train_test_split](https://scikit-learn.org/stable/modules/generated/sklearn.model_selection.train_test_split.html#sklearn.model_selection.train_test_split)"
   ]
  },
  {
   "cell_type": "code",
   "execution_count": 13,
   "id": "disturbed-parks",
   "metadata": {},
   "outputs": [
    {
     "name": "stdout",
     "output_type": "stream",
     "text": [
      "X_train: (105, 4)\n",
      "X_test: (45, 4)\n",
      "y_train: (105,)\n",
      "y_test: (45,)\n"
     ]
    }
   ],
   "source": [
    "# Irisデータセットの読み込み\n",
    "# 150枚のあやめの「がく」や「花びら」の長さと幅、そして花の種類を記録したデータ\n",
    "from sklearn.datasets import load_iris\n",
    "iris = load_iris()\n",
    "X, y = iris.data, iris.target\n",
    "\n",
    "# 学習データとテストデータを分割\n",
    "from sklearn.model_selection import train_test_split\n",
    "X_train, X_test, y_train, y_test = train_test_split(X, y, test_size=0.3, random_state=123)\n",
    "print('X_train: {}'.format(X_train.shape))\n",
    "print('X_test: {}'.format(X_test.shape))\n",
    "print('y_train: {}'.format(y_train.shape))\n",
    "print('y_test: {}'.format(y_test.shape))"
   ]
  },
  {
   "cell_type": "markdown",
   "id": "entire-rough",
   "metadata": {},
   "source": [
    "## 分類"
   ]
  },
  {
   "cell_type": "markdown",
   "id": "inner-ebony",
   "metadata": {},
   "source": [
    "### サポートベクタマシン(support vector machine, SVM)による分類処理\n",
    "\n",
    "- サポートベクタマシンとは\n",
    "  - 以下に利用可能なアルゴリズム\n",
    "    - 分類\n",
    "    - 回帰\n",
    "    - 外れ値検索\n",
    "- 線形分離できないデータを、高次元の空間に写して分類する\n",
    "  - `カーネル` とう概念を利用\n",
    "    - データ間の近さを定量化する指数\n",
    "    - 高次元空間のデータ間内積を計算する関数に相当\n",
    "      - linear\n",
    "      - 動径基底関数(radial basis function, rbf)\n",
    "- `サポートベクタ` 間の `マージン` が最大となるように `決定境界` の線を引く\n",
    "  - `サポートベクタ` とは、各クラスのデータ\n",
    "  - `マージン` とは、クラス間のサポートベクタの距離\n",
    "- 絶対値の極端に大きい特徴量に、分類結果が影響を受けやすい\n",
    "  - そのために正規化を必要とする"
   ]
  },
  {
   "cell_type": "code",
   "execution_count": 14,
   "id": "frank-soundtrack",
   "metadata": {},
   "outputs": [],
   "source": [
    "from sklearn.svm import SVC\n",
    "\n",
    "# 学習、および決定協会、マージン、サポートベクタを可視化する関数\n",
    "def plot_boundary_margin_sv(X0, y0, X1, y1, kernel, C, xmin=-1, xmax=1, ymin=-1, ymax=1):\n",
    "    \n",
    "    # サポートベクタマシンのインスタンス化\n",
    "    svc = SVC(kernel=kernel, C=C)\n",
    "    \n",
    "    # 学習\n",
    "    svc.fit(np.vstack((X0, X1)), np.hstack((y0, y1)))\n",
    "    \n",
    "    fig, ax = plt.subplots()\n",
    "    ax.scatter(X0[:, 0], X0[:, 1], marker='o', label='class 0')\n",
    "    ax.scatter(X1[:, 0], X1[:, 1], marker='x', label='class 1')\n",
    "    \n",
    "    # 決定協会とマージンをプロット\n",
    "    xx, yy = np.meshgrid(np.linspace(xmin, xmax, 100), np.linspace(ymin, ymax, 100))\n",
    "    xy = np.vstack([xx.ravel(), yy.ravel()]).T\n",
    "    p = svc.decision_function(xy).reshape((100, 100))\n",
    "    ax.contour(xx, yy, p, colors='k', levels=[-1, 0, 1], alpha=0.5, linestyles=['--', '-', '--'])\n",
    "    \n",
    "    # サポートベクタをプロット\n",
    "    ax.scatter(svc.support_vectors_[:, 0], svc.support_vectors_[:, 1], s=250, facecolors='none', edgecolors='black')\n",
    "    \n",
    "    ax.set_xlabel('x')\n",
    "    ax.set_ylabel('y')\n",
    "    ax.legend(loc='best')\n",
    "    plt.show()"
   ]
  },
  {
   "cell_type": "code",
   "execution_count": 15,
   "id": "sticky-shoulder",
   "metadata": {},
   "outputs": [
    {
     "data": {
      "image/png": "[encoded data removed]",
      "text/plain": [
       "<Figure size 432x288 with 1 Axes>"
      ]
     },
     "metadata": {},
     "output_type": "display_data"
    }
   ],
   "source": [
    "np.random.seed(123)\n",
    "\n",
    "# データの用意\n",
    "X = np.random.random(size=(100, 2))\n",
    "y = (X[:, 1] > 2*(X[:, 0]-0.5)**2 +0.5).astype(int)\n",
    "\n",
    "fig, ax = plt.subplots()\n",
    "ax.scatter(X[y == 0, 0], X[y ==0, 1], marker='x', label='class 0')\n",
    "ax.scatter(X[y == 1, 0], X[y == 1, 1], marker='o', label='class 1')\n",
    "ax.legend()\n",
    "plt.show()"
   ]
  },
  {
   "cell_type": "code",
   "execution_count": 16,
   "id": "gorgeous-defensive",
   "metadata": {},
   "outputs": [
    {
     "data": {
      "image/png": "[encoded data removed]",
      "text/plain": [
       "<Figure size 432x288 with 1 Axes>"
      ]
     },
     "metadata": {},
     "output_type": "display_data"
    }
   ],
   "source": [
    "# 上で作った関数を利用して、決定境界・マージン・サポートベクタをプロット\n",
    "X0, X1 = X[y == 0, :], X[y == 1, :]\n",
    "y0, y1 = y[y == 0], y[y == 1]\n",
    "plot_boundary_margin_sv(X0, y0, X1, y1, kernel='rbf', C=1e3, xmin=0, ymin=0)"
   ]
  },
  {
   "cell_type": "markdown",
   "id": "better-fairy",
   "metadata": {},
   "source": [
    "- 実線が決定境界\n",
    "- 破線がマージン\n",
    "- 丸印がサポートベクタ"
   ]
  },
  {
   "cell_type": "markdown",
   "id": "handled-bidder",
   "metadata": {},
   "source": [
    "### 決定木(decision tree)による分類\n",
    "\n",
    "- データを分割するルールを作成して、データを分類するアルゴリズム\n",
    "  - B-treeみたいな感じ\n",
    "- `情報利得`と`不純度`を判定する\n",
    "  - 情報利得とは、データを分割することによって、どれだけ得をするかを示す指標\n",
    "    - 親ノードの不純度から、子ノードの不純度の合計を引いたもの\n",
    "  - 不純度とは、どれだけデータが混在しているかの指標\n",
    "    - ジニ不純度\n",
    "      - sciket-learnでは、デフォルトで利用される\n",
    "    - エントロピー\n",
    "    - 分類誤差\n",
    "\n",
    "#### ジニ不純度の求め方\n",
    "\n",
    "- `どれだけデータが混在しているかの指標`\n",
    "  - つまり、`各ノードに間違ったクラスが振り分けられてしまう確率`のこと\n",
    "\n",
    "例えば、`class 0`と`class 1`に分類するノードにて、予測と実際の割合が以下の時\n",
    "\n",
    "<table>\n",
    "<tr>\n",
    "  <td colspan=\"2\" rowspan=\"2\"></td>\n",
    "  <td colspan=\"2\" align=\"center\">予測(振り分け結果)</td>\n",
    "</tr>\n",
    "<tr>\n",
    "  <td align=\"center\">class 0</td>\n",
    "  <td align=\"center\">class 1</td>\n",
    "</tr>\n",
    "<tr>\n",
    "  <td rowspan=\"2\">実際</td>\n",
    "  <td>class 0</td>\n",
    "  <td align=\"center\">0.60 P(0)</td>\n",
    "  <td align=\"center\">0.40 P(1-P(0))</td>\n",
    "</tr>\n",
    "<tr>\n",
    "  <td>class 1</td>\n",
    "  <td align=\"center\">0.40 P(1-P(1))</td>\n",
    "  <td align=\"center\">0.60 P(1)</td>\n",
    "</tr>\n",
    "</table>\n"
   ]
  },
  {
   "cell_type": "markdown",
   "id": "fourth-moral",
   "metadata": {},
   "source": [
    "- 予測は`class 0`なのに、実際は`class 1`と割り振られる確率: P(1-P(0))\n",
    "  - 0.4 * 0.6 = 0.24\n",
    "- 予測は`class 1`なのに、実際は`class 0`と割り振られる確率: P(1-P(1))\n",
    "  - 0.6 * 0.4 = 0.24\n",
    "- 上記2つ合計して、「0.48」がジニ不純度の値(つまり、間違ったクラスに割り振られる確率)となる\n",
    "\n",
    "数式では下記となる\n",
    "\n",
    "$\n",
    "P(0)(1-P(0))+P(1)(1-P(1)) = (P(0)+P(1))-(P(0)^2+P(1)^2) = 1-(P(0)^2+P(1)^2)\n",
    "$\n",
    "\n",
    "クラスがc個あるとした場合\n",
    "\n",
    "$\n",
    "\\displaystyle\n",
    "1-\\sum_{c=0}^{c-1}P(c)^2\n",
    "$\n"
   ]
  },
  {
   "cell_type": "code",
   "execution_count": 17,
   "id": "chronic-worse",
   "metadata": {},
   "outputs": [
    {
     "data": {
      "text/plain": [
       "array([1, 2, 2, 1, 0, 1, 1, 0, 0, 1, 2, 0, 1, 2, 2, 2, 0, 0, 1, 0, 0, 1,\n",
       "       0, 2, 0, 0, 0, 2, 2, 0, 2, 1, 0, 0, 1, 1, 2, 0, 0, 1, 1, 0, 2, 2,\n",
       "       2])"
      ]
     },
     "execution_count": 17,
     "metadata": {},
     "output_type": "execute_result"
    }
   ],
   "source": [
    "# Irisデータセットの用意\n",
    "from sklearn.datasets import load_iris\n",
    "iris = load_iris()\n",
    "X, y = iris.data, iris.target\n",
    "\n",
    "# 学習データとテストデータの分類\n",
    "from sklearn.model_selection import train_test_split\n",
    "X_train, X_test, y_train, y_test = train_test_split(X, y, test_size=0.3, random_state=123)\n",
    "\n",
    "from sklearn.tree import DecisionTreeClassifier\n",
    "\n",
    "# 決定木のインスタンス化(木の最大深さ=3)\n",
    "tree = DecisionTreeClassifier(max_depth=3)\n",
    "\n",
    "# 学習\n",
    "tree.fit(X_train, y_train)\n",
    "\n",
    "# 予測\n",
    "y_pred = tree.predict(X_test)\n",
    "y_pred"
   ]
  },
  {
   "cell_type": "markdown",
   "id": "manual-sydney",
   "metadata": {},
   "source": [
    "[sklearn.tree.DecisionTreeClassifier](https://scikit-learn.org/stable/modules/generated/sklearn.tree.DecisionTreeClassifier.html?highlight=decisiontreeclassifier#sklearn.tree.DecisionTreeClassifier)"
   ]
  },
  {
   "cell_type": "markdown",
   "id": "moral-alarm",
   "metadata": {},
   "source": [
    "作成した決定木を樹形図で表示する\n",
    "\n",
    "表示には、Pythonライブラリ`pydotplus`と可視化ツール`graphviz`が必要であるため、Jupyter Notebook環境にインストールしておく\n",
    "\n",
    "> !pip install pydotplus  \n",
    "> !sudo apt install graphviz"
   ]
  },
  {
   "cell_type": "code",
   "execution_count": 18,
   "id": "foreign-valentine",
   "metadata": {},
   "outputs": [],
   "source": [
    "# from pydotplus import graph_from_dot_data\n",
    "# from sklearn.tree import export_graphviz\n",
    "# dot形式のデータを抽出\n",
    "# dot_data = export_graphviz(tree, filled=True,\n",
    "#                 rounded=True,\n",
    "#                 class_names=['Setosa',\n",
    "#                      'Versicolor',\n",
    "#                      'Virigica'],\n",
    "#                 feature_names=['Speal Length',\n",
    "#                                'Spal Width',\n",
    "#                                'Petal Length',\n",
    "#                                'Petal Width'],\n",
    "#                 out_file=None)\n",
    "# # 決定木のプロットを出力\n",
    "# graph = graph_from_dot_data(dot_data)\n",
    "# graph.write_png('tree.png')"
   ]
  },
  {
   "cell_type": "markdown",
   "id": "surprised-powell",
   "metadata": {},
   "source": [
    "以下のような樹形図の画像ファイルが作成される\n",
    "\n",
    "![決定木のイメージ図](./img/tree.png)"
   ]
  },
  {
   "cell_type": "markdown",
   "id": "qualified-tract",
   "metadata": {},
   "source": [
    "### ランダムフォレスト(random forest)\n",
    "\n",
    "- データのサンプル特徴量(說明変数)をランダムに選択し決定木(decision tree)による処理を複数回繰り返し、各木の推定結果の多数決や平均値により分類・回帰を行うアンサンブル学習\n",
    "  - アンサンブル学習とは\n",
    "    - 複数の学習器(ランダムフォレストは決定木のアンサンブルであると言える)を用いた学習方法のこと\n",
    "- ブートストラップデータ\n",
    "  - ランダムに選択されたサンプルと特徴量(説明変数)のデータ\n",
    "  - ランダムフォレストで利用されるデータの呼称"
   ]
  },
  {
   "cell_type": "code",
   "execution_count": 36,
   "id": "federal-european",
   "metadata": {},
   "outputs": [
    {
     "data": {
      "text/plain": [
       "array([1, 2, 2, 1, 0, 1, 1, 0, 0, 1, 2, 0, 1, 2, 2, 2, 0, 0, 1, 0, 0, 1,\n",
       "       0, 2, 0, 0, 0, 2, 2, 0, 2, 1, 0, 0, 1, 1, 2, 0, 0, 1, 1, 0, 2, 2,\n",
       "       2])"
      ]
     },
     "execution_count": 36,
     "metadata": {},
     "output_type": "execute_result"
    }
   ],
   "source": [
    "# Irisデータセットの用意\n",
    "from sklearn.datasets import load_iris\n",
    "iris = load_iris()\n",
    "X, y = iris.data, iris.target\n",
    "\n",
    "# 学習データとテストデータの分類\n",
    "from sklearn.model_selection import train_test_split\n",
    "X_train, X_test, y_train, y_test = train_test_split(X, y, test_size=0.3, random_state=123)\n",
    "\n",
    "from sklearn.ensemble import RandomForestClassifier\n",
    "\n",
    "# ランダムフォレストのインスタンス化(n_estimatorsパラメーターは計算される決定木の個数)\n",
    "forest = RandomForestClassifier(n_estimators=100, random_state=123)\n",
    "\n",
    "# 学習\n",
    "forest.fit(X_train, y_train)\n",
    "\n",
    "# 予測\n",
    "y_pred = forest.predict(X_test)\n",
    "y_pred"
   ]
  },
  {
   "cell_type": "markdown",
   "id": "eastern-butler",
   "metadata": {},
   "source": [
    "[sklearn.ensemble.RandomForestClassifier](https://scikit-learn.org/stable/modules/generated/sklearn.ensemble.RandomForestClassifier.html)"
   ]
  },
  {
   "cell_type": "markdown",
   "id": "polished-norway",
   "metadata": {},
   "source": [
    "## 回帰\n",
    "\n",
    "### 線形回帰\n",
    "\n",
    "目的変数`y`を、説明変数(特徴量)`x`が`p`個あるとして、データを最もよく説明する係数`a`を求める\n",
    "\n",
    "$\n",
    "\\displaystyle\n",
    "y = a_0 + a_1x_1 + ... + a_px_p\n",
    "$\n",
    "\n",
    "- 線形回帰の種類\n",
    "  - 単回帰\n",
    "    - 説明変数が1つの変数の場合\n",
    "  - 重回帰\n",
    "    - 説明変数が複数の変数の場合"
   ]
  },
  {
   "cell_type": "code",
   "execution_count": 20,
   "id": "portuguese-tobago",
   "metadata": {},
   "outputs": [
    {
     "data": {
      "image/png": "[encoded data removed]",
      "text/plain": [
       "<Figure size 432x288 with 1 Axes>"
      ]
     },
     "metadata": {},
     "output_type": "display_data"
    }
   ],
   "source": [
    "# Bostonデータセットを読み込む\n",
    "# ボストン市郊外の地域別に、住宅価格と14個の特徴量を記録したデータ\n",
    "from sklearn.datasets import load_boston\n",
    "boston = load_boston()\n",
    "X, y = boston.data, boston.target\n",
    "\n",
    "# 学習データとテストデータに分割\n",
    "from sklearn.model_selection import train_test_split\n",
    "X_train, X_test, y_train, y_test = train_test_split(X, y, test_size=0.3, random_state=123)\n",
    "\n",
    "# 線形回帰をインスタンス化\n",
    "from sklearn.linear_model import LinearRegression\n",
    "lr = LinearRegression()\n",
    "# 学習\n",
    "lr.fit(X_train, y_train)\n",
    "# テストデータの予測\n",
    "y_pred = lr.predict(X_test)\n",
    "\n",
    "# X軸を予測値、Y軸を実績値とする散布図の描画\n",
    "fig, ax = plt.subplots()\n",
    "ax.scatter(y_pred, y_test)\n",
    "ax.plot((0, 50), (0, 50), linestyle='dashed', color='red')\n",
    "ax.set_xlabel('predicted value')\n",
    "ax.set_ylabel('actual value')\n",
    "plt.show()"
   ]
  },
  {
   "cell_type": "markdown",
   "id": "south-spain",
   "metadata": {},
   "source": [
    "予測値と実績値が等しい値の近似で収束しており、作成した回帰のモデルがある程度正しく動作していることを確認できる\n",
    "\n",
    "[sklearn.linear_model.LinearRegression](https://scikit-learn.org/stable/modules/generated/sklearn.linear_model.LinearRegression.html?highlight=linearregression#sklearn.linear_model.LinearRegression)"
   ]
  },
  {
   "cell_type": "markdown",
   "id": "correct-briefs",
   "metadata": {},
   "source": [
    "## 次元削減\n",
    "\n",
    "### 主成分分析(principal component analysis, PCA)\n",
    "\n",
    "高次元のデータに対して、分散が大きくなる方向(データが散らばっている方向)を探して、元の次元以下の低い次元に変換する手法"
   ]
  },
  {
   "cell_type": "code",
   "execution_count": 21,
   "id": "representative-bonus",
   "metadata": {},
   "outputs": [
    {
     "data": {
      "image/png": "[encoded data removed]",
      "text/plain": [
       "<Figure size 432x288 with 1 Axes>"
      ]
     },
     "metadata": {},
     "output_type": "display_data"
    }
   ],
   "source": [
    "# データの用意\n",
    "\n",
    "np.random.seed(123)\n",
    "# 50個の一様乱数を作成\n",
    "X = np.random.random(size=50)\n",
    "# Xを2倍したものと、50個の一様乱数を0.5倍したものを、足したもの\n",
    "Y = 2*X + 0.5*np.random.random(size=50)\n",
    "\n",
    "# 散布図の描画\n",
    "fig, ax = plt.subplots()\n",
    "ax.scatter(X, Y)\n",
    "plt.show()"
   ]
  },
  {
   "cell_type": "markdown",
   "id": "personalized-heating",
   "metadata": {},
   "source": [
    "[sklearn.decomposition.PCA](https://scikit-learn.org/stable/modules/generated/sklearn.decomposition.PCA.html)\n",
    "\n",
    "> **Parameters:**  \n",
    "> **n_components: int, float or ‘mle’, default=None**  \n",
    "> Number of components to keep.\n",
    "\n",
    "- 下記の例では`n_components=2`と指定しており、元々2次元のデータを、2成分になるように分析している\n",
    "  - そのため次元の削減は行っていない\n",
    "- 一方散布図を見ると、PC2(第2主成分)のデータは散らばりがすくなく、PC1(第1主成分)のデータが重要であることが分かる\n",
    "\n",
    "> **fit_transform(X, y=None)**  \n",
    "> Fit all transformers, transform the data and concatenate results.  \n",
    "> **Parameters:**  \n",
    "> X: {array-like, dataframe} of shape (n_samples, n_features)  \n",
    "> y: array-like of shape (n_samples,), default=None\n",
    "\n"
   ]
  },
  {
   "cell_type": "code",
   "execution_count": 22,
   "id": "subjective-flight",
   "metadata": {},
   "outputs": [
    {
     "data": {
      "image/png": "[encoded data removed]",
      "text/plain": [
       "<Figure size 432x288 with 1 Axes>"
      ]
     },
     "metadata": {},
     "output_type": "display_data"
    }
   ],
   "source": [
    "# 主成分分析を実行\n",
    "from sklearn.decomposition import PCA\n",
    "pca = PCA(n_components=2)\n",
    "# 分析対象のデータは配列かDataFrameである必要あるため、用意したXとYのデータを、50x2の行列に変えて渡している\n",
    "X_pca = pca.fit_transform(np.hstack((X[:, np.newaxis], Y[:, np.newaxis])))\n",
    "\n",
    "# 変換したデータを散布図に描画\n",
    "fig, ax = plt.subplots()\n",
    "ax.scatter(X_pca[:, 0], X_pca[:, 1])\n",
    "ax.set_xlabel('PC1')\n",
    "ax.set_ylabel('PC2')\n",
    "ax.set_xlim(-1.1, 1.1)\n",
    "ax.set_ylim(-1.1, 1.1)\n",
    "plt.show()"
   ]
  },
  {
   "cell_type": "markdown",
   "id": "ambient-rebate",
   "metadata": {},
   "source": [
    "## 分類モデルの評価(カテゴリの分類精度)\n",
    "\n",
    "- 混同行列(confusion matrix)\n",
    "  - 予測と実績のクラスラベル組み合わせを集計した表\n",
    "\n",
    "<table>\n",
    "<tr>\n",
    "  <td colspan=\"2\" rowspan=\"2\"></td>\n",
    "  <td colspan=\"2\" align=\"center\">実績</td>\n",
    "</tr>\n",
    "<tr>\n",
    "  <td align=\"center\">正例</td>\n",
    "  <td align=\"center\">負例</td>\n",
    "</tr>\n",
    "<tr>\n",
    "  <td rowspan=\"2\">予測</td>\n",
    "  <td>正例</td>\n",
    "  <td align=\"center\">真陽性<br>tp(True Positive)<br>正例と予測して正例だった件数</td>\n",
    "  <td align=\"center\">偽陽性<br>fp(False Positive)<br>正例と予測して負例だった件数</td>\n",
    "</tr>\n",
    "<tr>\n",
    "  <td>負例</td>\n",
    "  <td align=\"center\">偽陰性<br>fn(False Negative)<br>負例と予測して正例だった件数</td>\n",
    "  <td align=\"center\">真陰性<br>tn(True Negative)<br>負例と予測して負例だった件数</td>\n",
    "</tr>\n",
    "</table>"
   ]
  },
  {
   "cell_type": "markdown",
   "id": "developmental-warner",
   "metadata": {},
   "source": [
    "- データのカテゴリをどの程度正解したかの指標\n",
    "  - 適合率(precision)\n",
    "    - 正例の場合\n",
    "      - 正例と予測して、実際に正例だった割合\n",
    "      - tp/(tp+fp)\n",
    "    - 予測するクラスを間違えないようにしたい時に利用する指標\n",
    "  - 再現率(recall)\n",
    "    - 正例の場合\n",
    "      - 実際の正例のうち、正例と予測した割合\n",
    "      - tp/(tp+fn)\n",
    "    - 一般的に、適合率と再現率はトレードオフの関係となる\n",
    "  - F値(F-Value)\n",
    "    - 適合率と再現率の調和平均\n",
    "    - 2/(1/適合率 + 1/再現率) = 2 * 適合率 * 再現率/(適合率 + 再現率)\n",
    "    - 適合率と再現率のバランスが良い値になることを目指す時に利用する指標\n",
    "  - 正解率(accuracy)\n",
    "    - 正例と負例とを問わず、予測と実績が一致したデータの割合\n",
    "    - (tp+tn)/(tp+fp+fn+tn)\n"
   ]
  },
  {
   "cell_type": "code",
   "execution_count": 23,
   "id": "british-salon",
   "metadata": {},
   "outputs": [
    {
     "name": "stdout",
     "output_type": "stream",
     "text": [
      "              precision    recall  f1-score   support\n",
      "\n",
      "           0       1.00      1.00      1.00        15\n",
      "           1       1.00      1.00      1.00        15\n",
      "\n",
      "    accuracy                           1.00        30\n",
      "   macro avg       1.00      1.00      1.00        30\n",
      "weighted avg       1.00      1.00      1.00        30\n",
      "\n"
     ]
    }
   ],
   "source": [
    "# データの用意\n",
    "from sklearn.datasets import load_iris\n",
    "iris = load_iris()\n",
    "X, y = iris.data[:100, :], iris.target[:100]\n",
    "\n",
    "# 学習データセット、テストデータセットに分割\n",
    "from sklearn.model_selection import train_test_split\n",
    "X_train, X_test, y_train, y_test = train_test_split(X, y, test_size=0.3, random_state=123)\n",
    "\n",
    "# サポートベクタマシンでの学習・予測\n",
    "from sklearn.svm import SVC\n",
    "svc = SVC()\n",
    "svc.fit(X_train, y_train)\n",
    "y_pred = svc.predict(X_test)\n",
    "\n",
    "# 予測率、再現率、F値、正解率の出力\n",
    "from sklearn.metrics import classification_report\n",
    "print(classification_report(y_test, y_pred))"
   ]
  },
  {
   "cell_type": "markdown",
   "id": "outdoor-arbitration",
   "metadata": {},
   "source": [
    "[sklearn.metrics.classification_report](https://scikit-learn.org/stable/modules/generated/sklearn.metrics.classification_report.html)"
   ]
  },
  {
   "cell_type": "markdown",
   "id": "accurate-solid",
   "metadata": {},
   "source": [
    "### 交差検証を用いた学習モデルの評価\n",
    "\n",
    "- 交差検証(cross validation)\n",
    "  - データセットを学習データセットとテストデータセットに分割する処理を繰り返し、モデルの学習と評価を複数回行う\n",
    "  - 交差検証の種類\n",
    "    - k分割交差検証\n",
    "      - 10分割交差検証(10-fold cross validation)\n",
    "        - データセットを10分割して、9つの集合を学習データセットに、残り1つをテストデータセットに使用する処理を10回繰り返す\n",
    "        - 層化k分割交差検証(stratified k-fold cross validation)とも\n",
    "          - 目的変数(クラスラベル)の割合が一定となるk分割交差検証のこと\n",
    "\n",
    "![cross_validation](./img/cross_validation.png)"
   ]
  },
  {
   "cell_type": "code",
   "execution_count": 24,
   "id": "cross-oxford",
   "metadata": {},
   "outputs": [
    {
     "data": {
      "text/plain": [
       "array([1., 1., 1., 1., 1., 1., 1., 1., 1., 1.])"
      ]
     },
     "execution_count": 24,
     "metadata": {},
     "output_type": "execute_result"
    }
   ],
   "source": [
    "# データの用意\n",
    "from sklearn.datasets import load_iris\n",
    "iris = load_iris()\n",
    "X, y = iris.data[:100, :], iris.target[:100]\n",
    "\n",
    "# 学習データセット、テストデータセットに分割\n",
    "from sklearn.model_selection import train_test_split\n",
    "X_train, X_test, y_train, y_test = train_test_split(X, y, test_size=0.3, random_state=123)\n",
    "\n",
    "# サポートベクタマシンのインスタンス化\n",
    "from sklearn.svm import SVC\n",
    "svc = SVC()\n",
    "\n",
    "# 10分割交差検証を実施して、適合率(precision)を出力\n",
    "from sklearn.model_selection import cross_val_score\n",
    "cross_val_score(svc, X, y, cv=10, scoring='precision')"
   ]
  },
  {
   "cell_type": "markdown",
   "id": "placed-appearance",
   "metadata": {
    "tags": []
   },
   "source": [
    "[sklearn.model_selection.cross_val_score](https://scikit-learn.org/stable/modules/generated/sklearn.model_selection.cross_val_score.html)\n",
    "\n",
    "10分割交差検証(cv=10)のため、検証結果の値(scoring='precision')が10個出力されている"
   ]
  },
  {
   "cell_type": "markdown",
   "id": "disturbed-jerusalem",
   "metadata": {},
   "source": [
    "## 分類モデルの評価(予測確率の正確さ)\n",
    "\n",
    "- データに対する予測確率の正確さを示す指標\n",
    "  - ROC曲線(Receiver Operating Characteristic)\n",
    "    - 以下にてプロットした図のこと\n",
    "      - x軸：偽陽性(False Positive)の割合\n",
    "      - y軸：信用性(True Positive)の割合\n",
    "  - AUC(Area Under the Curve)\n",
    "    - ROC曲線の下部のこと\n",
    "      - 下図では、灰色に色付けされている部分\n",
    "    - モデルの良さを比較できる\n",
    "\n",
    "![ROC](./img/ROC.PNG)\n",
    "\n",
    "[奥村先生のHPより](https://oku.edu.mie-u.ac.jp/~okumura/stat/ROC.html)"
   ]
  },
  {
   "cell_type": "code",
   "execution_count": 25,
   "id": "through-gilbert",
   "metadata": {},
   "outputs": [
    {
     "data": {
      "image/png": "[encoded data removed]",
      "text/plain": [
       "<Figure size 432x288 with 1 Axes>"
      ]
     },
     "metadata": {},
     "output_type": "display_data"
    }
   ],
   "source": [
    "# 偽陽性率と真陽性率を算出\n",
    "fpr = np.array([0, 0, 0, 1, 1, 2, 3, 3, 3, 3, 4, 5, 5, 6, 7, 8, 8, 8, 9, 10, 11, 12, 12, 13, 14])/14\n",
    "tpr = np.array([0, 1, 2, 2, 3, 3, 3, 4, 5, 6, 6, 6, 7, 7, 7, 7, 8, 9, 9, 10, 10, 10, 11, 11, 11])/11\n",
    "\n",
    "# ROC曲線をプロット\n",
    "fig, ax = plt.subplots()\n",
    "ax.step(fpr, tpr)\n",
    "ax.set_xlabel('false positive rate')\n",
    "ax.set_ylabel('true positive rate')\n",
    "plt.show()"
   ]
  },
  {
   "cell_type": "code",
   "execution_count": 26,
   "id": "proof-finance",
   "metadata": {},
   "outputs": [
    {
     "name": "stdout",
     "output_type": "stream",
     "text": [
      "偽陽性率:  [0.         0.         0.         0.07142857 0.07142857 0.21428571\n",
      " 0.21428571 0.35714286 0.35714286 0.57142857 0.57142857 0.71428571\n",
      " 0.71428571 0.85714286 0.85714286 1.        ]\n",
      "真陽性率:  [0.         0.09090909 0.18181818 0.18181818 0.27272727 0.27272727\n",
      " 0.54545455 0.54545455 0.63636364 0.63636364 0.81818182 0.81818182\n",
      " 0.90909091 0.90909091 1.         1.        ]\n"
     ]
    }
   ],
   "source": [
    "from sklearn.metrics import roc_curve\n",
    "\n",
    "# 陽陰(Positive/Negative)を表すラベル\n",
    "labels = np.array([1, 1, 0, 1, 0, 0, 1, 1, 1, 0, 0, 1, 0, 0, 0, 1, 1, 0, 0, 1, 0, 0, 1, 0, 0])\n",
    "\n",
    "# 予測真陽性率\n",
    "probs = np.array([0.98, 0.95, 0.9, 0.87, 0.85, \n",
    "                  0.8, 0.75, 0.71, 0.63, 0.55, \n",
    "                  0.51, 0.47, 0.43, 0.38, 0.35, \n",
    "                  0.31, 0.28, 0.24, 0.22, 0.19, \n",
    "                  0.15, 0.12, 0.08, 0.004, 0.01])\n",
    "\n",
    "# 偽陽性率、真陽性率、しきい値を算出\n",
    "fpr, tpr, threshold = roc_curve(labels, probs)\n",
    "print('偽陽性率: ', fpr)\n",
    "print('真陽性率: ', tpr)"
   ]
  },
  {
   "cell_type": "code",
   "execution_count": 27,
   "id": "guided-creativity",
   "metadata": {},
   "outputs": [
    {
     "data": {
      "image/png": "[encoded data removed]",
      "text/plain": [
       "<Figure size 432x288 with 1 Axes>"
      ]
     },
     "metadata": {},
     "output_type": "display_data"
    }
   ],
   "source": [
    "# roc_curveメソッドで取得した偽陽性率・真陽性率を利用してROC曲線をプロット\n",
    "fig, ax = plt.subplots()\n",
    "ax.step(fpr, tpr)\n",
    "ax.set_xlabel('false positive rate')\n",
    "ax.set_ylabel('true positive rate')\n",
    "plt.show()"
   ]
  },
  {
   "cell_type": "code",
   "execution_count": 28,
   "id": "otherwise-evanescence",
   "metadata": {},
   "outputs": [
    {
     "data": {
      "text/plain": [
       "0.6558441558441558"
      ]
     },
     "execution_count": 28,
     "metadata": {},
     "output_type": "execute_result"
    }
   ],
   "source": [
    "# AUCの算出\n",
    "from sklearn.metrics import roc_auc_score\n",
    "roc_auc_score(labels, probs)"
   ]
  },
  {
   "cell_type": "markdown",
   "id": "comparable-growth",
   "metadata": {},
   "source": [
    "[sklearn.metrics.roc_curve](https://scikit-learn.org/stable/modules/generated/sklearn.metrics.roc_curve.html)\n",
    "\n",
    "[sklearn.metrics.roc_auc_score](https://scikit-learn.org/stable/modules/generated/sklearn.metrics.roc_auc_score.html)"
   ]
  },
  {
   "cell_type": "markdown",
   "id": "historic-foster",
   "metadata": {},
   "source": [
    "## ハイパーパラメーターの最適化\n",
    "\n",
    "- ハイパーパラメーターとは\n",
    "  - 学習時には値が決定されず、ユーザーが指定する必要となる値\n",
    "  - 例えば\n",
    "    - 決定木における「木の深さ(max_depthのこと)」\n",
    "    - ランダムフォレストに置ける「決定木の個数(n_estimatorsのこと)」\n",
    "- ハイパーパラメーター最適化を行う手法\n",
    "  - グリッドサーチ(grid search)\n",
    "    - ハイパーパラメーターに候補値を設定して、学習を繰り返し、最も予測が良いハイパーパラメーター値を選択する\n",
    "    - 主に`交差検証`と組み合わせる\n",
    "  - ランダムサーチ(random search)"
   ]
  },
  {
   "cell_type": "markdown",
   "id": "particular-shade",
   "metadata": {},
   "source": [
    "### グリッドサーチ"
   ]
  },
  {
   "cell_type": "code",
   "execution_count": 29,
   "id": "important-indiana",
   "metadata": {},
   "outputs": [
    {
     "data": {
      "text/plain": [
       "{'max_depth': 3}"
      ]
     },
     "execution_count": 29,
     "metadata": {},
     "output_type": "execute_result"
    }
   ],
   "source": [
    "# Irisデータセットの用意\n",
    "from sklearn.datasets import load_iris\n",
    "iris = load_iris()\n",
    "X, y = iris.data, iris.target\n",
    "\n",
    "# 学習データとテストデータに分割\n",
    "from sklearn.model_selection import train_test_split\n",
    "X_train, X_test, y_train, y_test = train_test_split(X, y, test_size=0.3, random_state=123)\n",
    "\n",
    "# 決定木(desiction tree)をインスタス化\n",
    "from sklearn.tree import DecisionTreeClassifier\n",
    "clf = DecisionTreeClassifier()\n",
    "param_grid = {'max_depth': [3, 4, 5]}\n",
    "\n",
    "# 10分割の交差検証を実行\n",
    "from sklearn.model_selection import GridSearchCV\n",
    "cv = GridSearchCV(clf, param_grid=param_grid, cv=10)\n",
    "cv.fit(X_train, y_train)\n",
    "\n",
    "# 最適な木の深さを確認\n",
    "cv.best_params_"
   ]
  },
  {
   "cell_type": "code",
   "execution_count": 30,
   "id": "improving-dylan",
   "metadata": {},
   "outputs": [
    {
     "data": {
      "text/plain": [
       "DecisionTreeClassifier(max_depth=3)"
      ]
     },
     "execution_count": 30,
     "metadata": {},
     "output_type": "execute_result"
    }
   ],
   "source": [
    "# 最適なモデルの内容(ハイパーパラメーター)を確認する\n",
    "cv.best_estimator_"
   ]
  },
  {
   "cell_type": "code",
   "execution_count": 31,
   "id": "centered-completion",
   "metadata": {},
   "outputs": [
    {
     "data": {
      "text/plain": [
       "array([1, 2, 2, 1, 0, 1, 1, 0, 0, 1, 2, 0, 1, 2, 2, 2, 0, 0, 1, 0, 0, 1,\n",
       "       0, 2, 0, 0, 0, 2, 2, 0, 2, 1, 0, 0, 1, 1, 2, 0, 0, 1, 1, 0, 2, 2,\n",
       "       2])"
      ]
     },
     "execution_count": 31,
     "metadata": {},
     "output_type": "execute_result"
    }
   ],
   "source": [
    "# テストデータの予測をする\n",
    "y_pred = cv.predict(X_test)\n",
    "y_pred"
   ]
  },
  {
   "cell_type": "markdown",
   "id": "handled-clerk",
   "metadata": {},
   "source": [
    "## クラスタリング\n",
    "\n",
    "- `教師なし学習`の典型的なタスク\n",
    "- データ間の類似性を計算して、データをグループにまとめるタスク\n",
    "- アルゴリズム\n",
    "  - k-means\n",
    "  - 階層的クラスタリング"
   ]
  },
  {
   "cell_type": "markdown",
   "id": "bound-resolution",
   "metadata": {},
   "source": [
    "### k-means"
   ]
  },
  {
   "cell_type": "markdown",
   "id": "elegant-partnership",
   "metadata": {},
   "source": [
    "以下のような手順となる\n",
    "\n",
    "1. 各データにランダムに割り当てたラベルを用いて、各クラスタのデータの中心を、（いったん）そのクラスタの中心とする\n",
    "2. 最も近いクラスタの中心を、各データの新しいクラスタのラベルとする\n",
    "3. クラスタの中心が収束するまで、上記の2を繰り返す\n",
    "\n",
    "![k-means](./img/k-means.png)\n",
    "\n",
    "[日経TREND k平均方とは?](https://xtrend.nikkei.com/atcl/contents/18/00076/00008/)"
   ]
  },
  {
   "cell_type": "code",
   "execution_count": 38,
   "id": "nominated-sponsorship",
   "metadata": {},
   "outputs": [
    {
     "data": {
      "image/png": "[encoded data removed]",
      "text/plain": [
       "<Figure size 432x288 with 1 Axes>"
      ]
     },
     "metadata": {},
     "output_type": "display_data"
    }
   ],
   "source": [
    "# データの用意\n",
    "from sklearn.datasets import load_iris\n",
    "iris = load_iris()\n",
    "data = iris.data\n",
    "# 先頭の100行、および0列名(Sepal Length)と2列目(Petal Length)のデータのみを利用する\n",
    "X = data[:100, [0, 2]]\n",
    "\n",
    "# データの散布図を描画\n",
    "fig, ax = plt.subplots()\n",
    "ax.scatter(X[:, 0], X[:, 1])\n",
    "ax.set_xlabel('Sepal Length')\n",
    "ax.set_ylabel('Petal Length')\n",
    "plt.show()"
   ]
  },
  {
   "cell_type": "code",
   "execution_count": 39,
   "id": "composed-retirement",
   "metadata": {},
   "outputs": [
    {
     "data": {
      "image/png": "[encoded data removed]",
      "text/plain": [
       "<Figure size 432x288 with 1 Axes>"
      ]
     },
     "metadata": {},
     "output_type": "display_data"
    }
   ],
   "source": [
    "from sklearn.cluster import KMeans\n",
    "# KMeansインスタンスの生成\n",
    "km = KMeans(n_clusters=3,\n",
    "            init='random',\n",
    "            n_init=10,\n",
    "            random_state=123)\n",
    "# KMeansの実行\n",
    "y_km = km.fit_predict(X)\n",
    "\n",
    "# k-meansした結果を散布図に描画\n",
    "fig, ax = plt.subplots()\n",
    "\n",
    "# 3つのクラスターに分割されたデータを、それぞれプロット\n",
    "ax.scatter(X[y_km == 0, 0], X[y_km == 0, 1], s=50, edgecolor='black', marker='s', label='cluster 1')\n",
    "ax.scatter(X[y_km == 1, 0], X[y_km == 1, 1], s=50, edgecolor='black', marker='o', label='cluster 2')\n",
    "ax.scatter(X[y_km == 2, 0], X[y_km == 2, 1], s=50, edgecolor='black', marker='v', label='cluster 3')\n",
    "\n",
    "# 3つのクラスターの中心点をプロット\n",
    "ax.plot(np.mean(X[y_km == 0, 0]), np.mean(X[y_km == 0, 1]), marker='x', markersize=10, color='red')\n",
    "ax.plot(np.mean(X[y_km == 1, 0]), np.mean(X[y_km == 1, 1]), marker='x', markersize=10, color='red')\n",
    "ax.plot(np.mean(X[y_km == 2, 0]), np.mean(X[y_km == 2, 1]), marker='x', markersize=10, color='red')\n",
    "\n",
    "ax.set_xlabel('Sepal Length')\n",
    "ax.set_ylabel('Petal Length')\n",
    "ax.legend(loc='best')\n",
    "plt.show()"
   ]
  },
  {
   "cell_type": "markdown",
   "id": "played-weather",
   "metadata": {},
   "source": [
    "[sklearn.cluster.KMeans](https://scikit-learn.org/stable/modules/generated/sklearn.cluster.KMeans.html)\n",
    "\n",
    "以下、KMeansインスタンス生成時のパラメーター\n",
    "\n",
    "- n_cluster\n",
    "  - データを分けるクラスタ数を指定\n",
    "- init\n",
    "  - 初期値の与え方\n",
    "  - 以下より選択\n",
    "\n",
    "> ‘k-means++’ : selects initial cluster centers for k-mean clustering in a smart way to speed up convergence.  \n",
    "> ‘random’: choose n_clusters observations (rows) at random from data for the initial centroids.  \n",
    "\n",
    "  - n_init\n",
    "    - k-meansを実行する回数\n",
    "  - max_iter\n",
    "    - k-meansで反復する最大回数\n",
    "  - tol\n",
    "    - k-meansで収束を判定する許容誤差\n",
    "  - random_state\n",
    "    - 乱数のシードを固定する場合指定\n"
   ]
  },
  {
   "cell_type": "markdown",
   "id": "western-significance",
   "metadata": {},
   "source": [
    "### 階層的クラスタリング\n",
    "\n",
    "- 凝集型\n",
    "  - `地味にコツコツとデータをまとめていく`アプローチ\n",
    "  - アプローチ・イメージ\n",
    "    - 似ているデータをまとめて小さなクラスタをつくり\n",
    "    - 次に、そのクラスタと似ているデータでクラスタをつくり\n",
    "    - 最終的に、データが1つのクラスタにまとめられる\n",
    "- 分割型\n",
    "  - `すべてのデータが1つのクラスタに所属していると考え、順次クラスタ分割していく`アプローチ"
   ]
  },
  {
   "cell_type": "markdown",
   "id": "alleged-sleeve",
   "metadata": {},
   "source": [
    "#### 凝集型階層的クラスタリング\n",
    "\n",
    "[sklearn.cluster.AgglomerativeClustering](https://scikit-learn.org/stable/modules/generated/sklearn.cluster.AgglomerativeClustering.html)\n",
    "\n",
    "`AgglomerativeClustering`インスタンス生成時のパラメーター\n",
    "\n",
    "- n_cluster\n",
    "  - データを分けるクラスタ数を指定\n",
    "- affinity\n",
    "  - データ間の距離を測る方法\n",
    "  - 以下の例では`euclidean(ユークリッド距離)`を利用\n",
    "\n",
    "> Metric used to compute the linkage. Can be “euclidean”, “l1”, “l2”, “manhattan”, “cosine”, or “precomputed”.\n",
    "\n",
    "- linkage\n",
    "  - クラスタリング方法\n",
    "  - `The algorithm will merge the pairs of cluster that minimize this criterion.`とのこと\n",
    "  - 以下の例では`complete(最長距離法)`を利用\n",
    "\n",
    "> Which linkage criterion to use. The linkage criterion determines which distance to use between sets of observation. The algorithm will merge the pairs of cluster that minimize this criterion.  \n",
    "> ・‘ward’ minimizes the variance of the clusters being merged.  \n",
    "> ・‘average’ uses the average of the distances of each observation of the two sets.  \n",
    "> ・‘complete’ or ‘maximum’ linkage uses the maximum distances between all observations of the two sets.  \n",
    "> ・‘single’ uses the minimum of the distances between all observations of the two sets.  "
   ]
  },
  {
   "cell_type": "code",
   "execution_count": 34,
   "id": "seeing-order",
   "metadata": {},
   "outputs": [
    {
     "data": {
      "text/plain": [
       "array([1, 1, 1, 1, 1, 1, 1, 1, 1, 1, 1, 1, 1, 1, 1, 1, 1, 1, 1, 1, 1, 1,\n",
       "       1, 1, 1, 1, 1, 1, 1, 1, 1, 1, 1, 1, 1, 1, 1, 1, 1, 1, 1, 1, 1, 1,\n",
       "       1, 1, 1, 1, 1, 1, 2, 2, 2, 0, 2, 0, 2, 0, 2, 0, 0, 0, 0, 2, 0, 2,\n",
       "       0, 0, 2, 0, 2, 0, 2, 2, 2, 2, 2, 2, 2, 0, 0, 0, 0, 2, 0, 2, 2, 2,\n",
       "       0, 0, 0, 2, 0, 0, 0, 0, 0, 2, 0, 0])"
      ]
     },
     "execution_count": 34,
     "metadata": {},
     "output_type": "execute_result"
    }
   ],
   "source": [
    "# データの用意\n",
    "from sklearn.datasets import load_iris\n",
    "iris = load_iris()\n",
    "data = iris.data\n",
    "# 先頭の100行、および0列名(Sepal Length)と2列目(Petal Length)のデータのみを利用する\n",
    "X = data[:100, [0, 2]]\n",
    "\n",
    "# 凝集型の階層的クラスタリングを実行\n",
    "from sklearn.cluster import AgglomerativeClustering\n",
    "# インスタンスの生成\n",
    "ac = AgglomerativeClustering(n_clusters=3,\n",
    "                             affinity='euclidean',\n",
    "                             linkage='complete')\n",
    "# 実行\n",
    "labels = ac.fit_predict(X)\n",
    "labels"
   ]
  },
  {
   "cell_type": "markdown",
   "id": "sublime-tracker",
   "metadata": {},
   "source": [
    "上記の凝集型階層的クラスタリングの結果を、樹形図にプロット"
   ]
  },
  {
   "cell_type": "code",
   "execution_count": 35,
   "id": "gorgeous-piano",
   "metadata": {},
   "outputs": [
    {
     "data": {
      "image/png": "[encoded data removed]",
      "text/plain": [
       "<Figure size 4500x900 with 1 Axes>"
      ]
     },
     "metadata": {},
     "output_type": "display_data"
    }
   ],
   "source": [
    "# 子クラスタとの関係を抽出\n",
    "children = ac.children_\n",
    "# クラスタ間の距離を抽出\n",
    "distance = np.arange(children.shape[0])\n",
    "# 各データの観測番号\n",
    "no_of_observations = np.arange(2, children.shape[0]+2)\n",
    "# 子クラスタ、クラスタ間の距離、観測番号を列方向に結合\n",
    "linkage_matrix = np.hstack((children,\n",
    "                            distance[:, np.newaxis],\n",
    "                            no_of_observations[:, np.newaxis])).astype(float)\n",
    "\n",
    "# 樹形図をプロット\n",
    "from scipy.cluster.hierarchy import dendrogram\n",
    "fig, ax = plt.subplots(figsize=(15, 3), dpi=300)\n",
    "dendrogram(linkage_matrix, labels=np.arange(100), leaf_font_size=8, color_threshold=np.inf)\n",
    "plt.show()"
   ]
  }
 ],
 "metadata": {
  "kernelspec": {
   "display_name": "Python 3",
   "language": "python",
   "name": "python3"
  },
  "language_info": {
   "codemirror_mode": {
    "name": "ipython",
    "version": 3
   },
   "file_extension": ".py",
   "mimetype": "text/x-python",
   "name": "python",
   "nbconvert_exporter": "python",
   "pygments_lexer": "ipython3",
   "version": "3.8.8"
  }
 },
 "nbformat": 4,
 "nbformat_minor": 5
}
