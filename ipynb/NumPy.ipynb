{
 "cells": [
  {
   "cell_type": "markdown",
   "id": "atomic-lecture",
   "metadata": {},
   "source": [
    "# NumPy"
   ]
  },
  {
   "cell_type": "code",
   "execution_count": 1,
   "id": "noticed-highland",
   "metadata": {},
   "outputs": [
    {
     "name": "stdout",
     "output_type": "stream",
     "text": [
      "3.8.8 | packaged by conda-forge | (default, Feb 20 2021, 16:22:27) \n",
      "[GCC 9.3.0]\n",
      "NumPy: 1.20.1\n"
     ]
    }
   ],
   "source": [
    "import sys\n",
    "import numpy as np\n",
    "\n",
    "print(sys.version)\n",
    "print('NumPy: {}'.format(np.__version__))"
   ]
  },
  {
   "cell_type": "code",
   "execution_count": 2,
   "id": "hazardous-colleague",
   "metadata": {},
   "outputs": [
    {
     "data": {
      "text/html": [
       "<style>\n",
       "table {float:left}\n",
       "</style>\n"
      ],
      "text/plain": [
       "<IPython.core.display.HTML object>"
      ]
     },
     "metadata": {},
     "output_type": "display_data"
    }
   ],
   "source": [
    "%%html\n",
    "<style>\n",
    "table {float:left}\n",
    "</style>"
   ]
  },
  {
   "cell_type": "markdown",
   "id": "utility-yesterday",
   "metadata": {},
   "source": [
    "## 変形(次元の変換)"
   ]
  },
  {
   "cell_type": "code",
   "execution_count": 3,
   "id": "following-camera",
   "metadata": {},
   "outputs": [
    {
     "data": {
      "text/plain": [
       "array([0, 1, 2, 3, 4, 5, 6, 7, 8, 9])"
      ]
     },
     "execution_count": 3,
     "metadata": {},
     "output_type": "execute_result"
    }
   ],
   "source": [
    "# データの用意\n",
    "a = np.arange(0, 10)\n",
    "a"
   ]
  },
  {
   "cell_type": "code",
   "execution_count": 4,
   "id": "gentle-tennis",
   "metadata": {},
   "outputs": [
    {
     "data": {
      "text/plain": [
       "(10,)"
      ]
     },
     "execution_count": 4,
     "metadata": {},
     "output_type": "execute_result"
    }
   ],
   "source": [
    "# 1次元配列時の`shape`関数の出力\n",
    "np.shape(a)"
   ]
  },
  {
   "cell_type": "markdown",
   "id": "passive-mining",
   "metadata": {},
   "source": [
    "### 次元の追加\n",
    "1次元の配列を、2次元に変換する"
   ]
  },
  {
   "cell_type": "code",
   "execution_count": 5,
   "id": "closing-martial",
   "metadata": {},
   "outputs": [
    {
     "data": {
      "text/plain": [
       "array([[0, 1, 2, 3, 4],\n",
       "       [5, 6, 7, 8, 9]])"
      ]
     },
     "execution_count": 5,
     "metadata": {},
     "output_type": "execute_result"
    }
   ],
   "source": [
    "# 変形したい配列内容をタプルで指定\n",
    "b = a.reshape((2, 5))\n",
    "b"
   ]
  },
  {
   "cell_type": "markdown",
   "id": "democratic-conference",
   "metadata": {},
   "source": [
    "[numpy.reshape](https://numpy.org/doc/stable/reference/generated/numpy.reshape.html?highlight=reshape#numpy.reshape)"
   ]
  },
  {
   "cell_type": "markdown",
   "id": "norman-antigua",
   "metadata": {},
   "source": [
    "### 1次元配列に戻す"
   ]
  },
  {
   "cell_type": "code",
   "execution_count": 6,
   "id": "indie-webmaster",
   "metadata": {},
   "outputs": [
    {
     "data": {
      "text/plain": [
       "array([0, 1, 2, 3, 4, 5, 6, 7, 8, 9])"
      ]
     },
     "execution_count": 6,
     "metadata": {},
     "output_type": "execute_result"
    }
   ],
   "source": [
    "# ravelメソッドは参照を返す\n",
    "b.ravel()"
   ]
  },
  {
   "cell_type": "markdown",
   "id": "liquid-ordering",
   "metadata": {},
   "source": [
    "[numpy.ravel](https://numpy.org/doc/stable/reference/generated/numpy.ravel.html?highlight=ravel#numpy.ravel)"
   ]
  },
  {
   "cell_type": "code",
   "execution_count": 7,
   "id": "integral-robinson",
   "metadata": {},
   "outputs": [
    {
     "data": {
      "text/plain": [
       "array([0, 1, 2, 3, 4, 5, 6, 7, 8, 9])"
      ]
     },
     "execution_count": 7,
     "metadata": {},
     "output_type": "execute_result"
    }
   ],
   "source": [
    "# flattenメソッドはコピーを返す\n",
    "b.flatten()"
   ]
  },
  {
   "cell_type": "markdown",
   "id": "average-happiness",
   "metadata": {},
   "source": [
    "[numpy.flatten](https://numpy.org/doc/stable/reference/generated/numpy.ndarray.flatten.html#numpy.ndarray.flatten)"
   ]
  },
  {
   "cell_type": "markdown",
   "id": "danish-instrument",
   "metadata": {},
   "source": [
    "## データ型の確認・変換"
   ]
  },
  {
   "cell_type": "code",
   "execution_count": 8,
   "id": "laden-dakota",
   "metadata": {},
   "outputs": [
    {
     "data": {
      "text/plain": [
       "dtype('int64')"
      ]
     },
     "execution_count": 8,
     "metadata": {},
     "output_type": "execute_result"
    }
   ],
   "source": [
    "# データ型の確認\n",
    "a = np.arange(1, 6)\n",
    "a.dtype"
   ]
  },
  {
   "cell_type": "code",
   "execution_count": 9,
   "id": "right-philippines",
   "metadata": {},
   "outputs": [
    {
     "data": {
      "text/plain": [
       "array([1., 2., 3., 4., 5.], dtype=float16)"
      ]
     },
     "execution_count": 9,
     "metadata": {},
     "output_type": "execute_result"
    }
   ],
   "source": [
    "# データ型の変換\n",
    "a = np.arange(1, 6)\n",
    "a.astype(np.float16)"
   ]
  },
  {
   "cell_type": "markdown",
   "id": "optimum-airport",
   "metadata": {},
   "source": [
    "Pythonデータ型とNumPy`dtype`メソッド表示のデータ型との対応表\n",
    "\n",
    "| Python3(64bit) | NumPy |\n",
    "|:---:|:---:|\n",
    "| int | int64 |\n",
    "| float | float64 |\n",
    "| str | unicode |\n"
   ]
  },
  {
   "cell_type": "markdown",
   "id": "certified-keeping",
   "metadata": {},
   "source": [
    "## 浅いコピー(shallow copy)と深いコピー(deep copy)\n",
    "\n",
    "Pythonにおけるmutableな複合データ型の`shallow copy`と`deep copy`について\n",
    "\n",
    "> Python において代入文はオブジェクトをコピーしません。代入はターゲットとオブジェクトの間に束縛を作ります。ミュータブルなコレクションまたはミュータブルなアイテムを含むコレクションについては、元のオブジェクトを変更せずにコピーを変更できるように、コピーが必要になることが時々あります。  \n",
    ">  \n",
    "> 浅い(shallow)コピーと深い(deep)コピーの違いが関係するのは、複合オブジェクト(リストやクラスインスタンスのような他のオブジェクトを含むオブジェクト)だけです。  \n",
    "> ・浅いコピー(shallow copy)は新たな複合オブジェクトを作成し、その後 (可能な限り) 元のオブジェクト中に見つかったオブジェクトに対する「参照」を挿入します。  \n",
    "> ・深いコピー(deep copy)は新たな複合オブジェクトを作成し、その後元のオブジェクト中に見つかったオブジェクトの「コピー」を挿入します。  \n",
    "\n",
    "[Python: copy --- 浅いコピーおよび深いコピー操作](https://docs.python.org/ja/3/library/copy.html)"
   ]
  },
  {
   "cell_type": "code",
   "execution_count": 10,
   "id": "military-jungle",
   "metadata": {},
   "outputs": [
    {
     "name": "stdout",
     "output_type": "stream",
     "text": [
      "a:  [1 0]\n",
      "a1: [1 0]\n",
      "b:  [0 0]\n",
      "b1: [1 0]\n"
     ]
    }
   ],
   "source": [
    "# shallow copyの例\n",
    "a = np.array([0, 0])\n",
    "a1 = a\n",
    "a1[0] = 1\n",
    "print('a:  {}'.format(a))\n",
    "print('a1: {}'.format(a1))\n",
    "\n",
    "# deep copyの例\n",
    "b = np.array([0, 0])\n",
    "b1 = b.copy()\n",
    "b1[0] = 1\n",
    "print('b:  {}'.format(b))\n",
    "print('b1: {}'.format(b1))"
   ]
  },
  {
   "cell_type": "code",
   "execution_count": 11,
   "id": "elementary-workshop",
   "metadata": {},
   "outputs": [
    {
     "name": "stdout",
     "output_type": "stream",
     "text": [
      "c  ravel: [[1 0]\n",
      " [0 0]]\n",
      "c1 ravel: [1 0 0 0]\n",
      "d  ravel: [[0 0]\n",
      " [0 0]]\n",
      "d1 ravel: [1 0 0 0]\n"
     ]
    }
   ],
   "source": [
    "# ravelメソッドはshallow copy\n",
    "c = np.array([[0, 0], [0, 0]])\n",
    "c1 = c.ravel()\n",
    "c1[0] = 1\n",
    "print('c  ravel: {}'.format(c))\n",
    "print('c1 ravel: {}'.format(c1))\n",
    "\n",
    "# flattenメソッドはdeep copy\n",
    "d = np.array([[0, 0], [0, 0]])\n",
    "d1 = d.flatten()\n",
    "d1[0] = 1\n",
    "print('d  ravel: {}'.format(d))\n",
    "print('d1 ravel: {}'.format(d1))"
   ]
  },
  {
   "cell_type": "code",
   "execution_count": 12,
   "id": "cloudy-rugby",
   "metadata": {},
   "outputs": [
    {
     "name": "stdout",
     "output_type": "stream",
     "text": [
      "np_array1: [1 0]\n",
      "np_array2: [1 0]\n",
      "py_list1:  [0, 0]\n",
      "py_list2:  [1, 0]\n"
     ]
    }
   ],
   "source": [
    "# NumPyのndarrayの場合、スライスでの代入はshallow copyとなるので注意\n",
    "np_array1 = np.array([0, 0])\n",
    "np_array2 = np_array1[:]\n",
    "np_array2[0] = 1\n",
    "print('np_array1: {}'.format(np_array1))\n",
    "print('np_array2: {}'.format(np_array2))\n",
    "\n",
    "# Pythonではdeep copyである\n",
    "py_list1 = [0, 0]\n",
    "py_list2 = py_list1[:]\n",
    "py_list2[0] = 1\n",
    "print('py_list1:  {}'.format(py_list1))\n",
    "print('py_list2:  {}'.format(py_list2))\n"
   ]
  },
  {
   "cell_type": "markdown",
   "id": "crude-scholar",
   "metadata": {},
   "source": [
    "## 乱数の生成\n",
    "\n",
    "[Random sampling](https://numpy.org/doc/stable/reference/random/index.html)"
   ]
  },
  {
   "cell_type": "markdown",
   "id": "amber-occupation",
   "metadata": {},
   "source": [
    "### 0から1までを範囲とする一様乱数の生成"
   ]
  },
  {
   "cell_type": "code",
   "execution_count": 13,
   "id": "western-entry",
   "metadata": {},
   "outputs": [
    {
     "data": {
      "text/plain": [
       "array([[0.69646919, 0.28613933, 0.22685145],\n",
       "       [0.55131477, 0.71946897, 0.42310646]])"
      ]
     },
     "execution_count": 13,
     "metadata": {},
     "output_type": "execute_result"
    }
   ],
   "source": [
    "np.random.seed(123)\n",
    "# 生成する乱数の次元と要素をタプルで渡す\n",
    "np.random.random((2, 3))"
   ]
  },
  {
   "cell_type": "markdown",
   "id": "relative-reasoning",
   "metadata": {},
   "source": [
    "[numpy.random.random](https://docs.python.org/dev/library/random.html#random.random)"
   ]
  },
  {
   "cell_type": "code",
   "execution_count": 14,
   "id": "strategic-melissa",
   "metadata": {},
   "outputs": [
    {
     "data": {
      "text/plain": [
       "array([[0.69646919, 0.28613933, 0.22685145],\n",
       "       [0.55131477, 0.71946897, 0.42310646]])"
      ]
     },
     "execution_count": 14,
     "metadata": {},
     "output_type": "execute_result"
    }
   ],
   "source": [
    "np.random.seed(123)\n",
    "# 生成する乱数の次元と要素を引数で渡す\n",
    "np.random.rand(2, 3)"
   ]
  },
  {
   "cell_type": "markdown",
   "id": "unique-terrorist",
   "metadata": {},
   "source": [
    "[numpy.random.rand](https://numpy.org/doc/stable/reference/random/generated/numpy.random.rand.html?highlight=random%20rand)"
   ]
  },
  {
   "cell_type": "markdown",
   "id": "documented-guyana",
   "metadata": {},
   "source": [
    "### 整数値の一様乱数の生成"
   ]
  },
  {
   "cell_type": "code",
   "execution_count": 15,
   "id": "approximate-floor",
   "metadata": {},
   "outputs": [
    {
     "data": {
      "text/plain": [
       "array([[3, 3, 7],\n",
       "       [2, 4, 7]])"
      ]
     },
     "execution_count": 15,
     "metadata": {},
     "output_type": "execute_result"
    }
   ],
   "source": [
    "np.random.seed(123)\n",
    "# 乱数の範囲と、次元と要素を指定\n",
    "np.random.randint(1, 10, size=(2, 3))"
   ]
  },
  {
   "cell_type": "markdown",
   "id": "logical-breakdown",
   "metadata": {},
   "source": [
    "[numpy.random.randint](https://numpy.org/doc/stable/reference/random/generated/numpy.random.randint.html?highlight=randint#numpy.random.randint)"
   ]
  },
  {
   "cell_type": "markdown",
   "id": "foreign-rough",
   "metadata": {},
   "source": [
    "### 少数値の一様乱数の生成"
   ]
  },
  {
   "cell_type": "code",
   "execution_count": 16,
   "id": "descending-priest",
   "metadata": {},
   "outputs": [
    {
     "data": {
      "text/plain": [
       "array([[6.96469186, 2.86139335, 2.26851454],\n",
       "       [5.51314769, 7.1946897 , 4.2310646 ]])"
      ]
     },
     "execution_count": 16,
     "metadata": {},
     "output_type": "execute_result"
    }
   ],
   "source": [
    "np.random.seed(123)\n",
    "# 乱数の範囲と、次元と要素を指定\n",
    "np.random.uniform(0.0, 10.0, size=(2, 3))"
   ]
  },
  {
   "cell_type": "markdown",
   "id": "streaming-trial",
   "metadata": {},
   "source": [
    "[numpy.random.uniform](https://numpy.org/doc/stable/reference/random/generated/numpy.random.uniform.html?highlight=random%20uniform#numpy.random.uniform)"
   ]
  },
  {
   "cell_type": "markdown",
   "id": "moving-extent",
   "metadata": {},
   "source": [
    "### 標準正規分布(平均0、標準偏差1の正規分布)に従った乱数の生成"
   ]
  },
  {
   "cell_type": "code",
   "execution_count": 17,
   "id": "suited-apache",
   "metadata": {},
   "outputs": [
    {
     "data": {
      "text/plain": [
       "array([[-1.0856306 ,  0.99734545,  0.2829785 ],\n",
       "       [-1.50629471, -0.57860025,  1.65143654]])"
      ]
     },
     "execution_count": 17,
     "metadata": {},
     "output_type": "execute_result"
    }
   ],
   "source": [
    "np.random.seed(123)\n",
    "# 標準正規分府(平均0、標準偏差1の分布)で生成\n",
    "np.random.randn(2, 3)"
   ]
  },
  {
   "cell_type": "markdown",
   "id": "satisfactory-dubai",
   "metadata": {},
   "source": [
    "[numpy.random.randn](https://numpy.org/doc/stable/reference/random/generated/numpy.random.randn.html?highlight=random%20randn#numpy.random.randn)"
   ]
  },
  {
   "cell_type": "code",
   "execution_count": 18,
   "id": "consistent-services",
   "metadata": {},
   "outputs": [
    {
     "data": {
      "text/plain": [
       "array([[-5.42815302,  4.98672723,  1.41489249],\n",
       "       [-7.53147357, -2.89300126,  8.25718269]])"
      ]
     },
     "execution_count": 18,
     "metadata": {},
     "output_type": "execute_result"
    }
   ],
   "source": [
    "np.random.seed(123)\n",
    "# 平均0、標準偏差5の分布で生成\n",
    "np.random.normal(loc=0, scale=5, size=(2, 3))"
   ]
  },
  {
   "cell_type": "markdown",
   "id": "proud-advocacy",
   "metadata": {},
   "source": [
    "[numpy.random.normal](https://numpy.org/doc/stable/reference/random/generated/numpy.random.normal.html?highlight=random%20normal#numpy.random.normal)"
   ]
  },
  {
   "cell_type": "markdown",
   "id": "alien-duration",
   "metadata": {},
   "source": [
    "## 同じ要素(`0.0`や`1.0`)の数列を作成"
   ]
  },
  {
   "cell_type": "code",
   "execution_count": 19,
   "id": "foster-theorem",
   "metadata": {},
   "outputs": [
    {
     "data": {
      "text/plain": [
       "array([0., 0., 0.])"
      ]
     },
     "execution_count": 19,
     "metadata": {},
     "output_type": "execute_result"
    }
   ],
   "source": [
    "# 1x3の「0.0」の配列を作成\n",
    "np.zeros(3)"
   ]
  },
  {
   "cell_type": "code",
   "execution_count": 20,
   "id": "bulgarian-excellence",
   "metadata": {},
   "outputs": [
    {
     "data": {
      "text/plain": [
       "array([[0., 0.],\n",
       "       [0., 0.]])"
      ]
     },
     "execution_count": 20,
     "metadata": {},
     "output_type": "execute_result"
    }
   ],
   "source": [
    "# 2x2の「0.0」の配列を作成\n",
    "np.zeros((2, 2))"
   ]
  },
  {
   "cell_type": "markdown",
   "id": "august-mortgage",
   "metadata": {},
   "source": [
    "[numpy.zeros](https://numpy.org/doc/stable/reference/generated/numpy.zeros.html)"
   ]
  },
  {
   "cell_type": "code",
   "execution_count": 21,
   "id": "assisted-gilbert",
   "metadata": {},
   "outputs": [
    {
     "data": {
      "text/plain": [
       "array([1., 1., 1.])"
      ]
     },
     "execution_count": 21,
     "metadata": {},
     "output_type": "execute_result"
    }
   ],
   "source": [
    "# 1x3の「1.0」の配列を作成\n",
    "np.ones(3)"
   ]
  },
  {
   "cell_type": "code",
   "execution_count": 22,
   "id": "responsible-female",
   "metadata": {},
   "outputs": [
    {
     "data": {
      "text/plain": [
       "array([[1., 1.],\n",
       "       [1., 1.]])"
      ]
     },
     "execution_count": 22,
     "metadata": {},
     "output_type": "execute_result"
    }
   ],
   "source": [
    "# 2x2の「1.0」の配列を作成\n",
    "np.ones((2, 2))"
   ]
  },
  {
   "cell_type": "markdown",
   "id": "announced-cambodia",
   "metadata": {},
   "source": [
    "[numpy.ones](https://numpy.org/doc/stable/reference/generated/numpy.ones.html)"
   ]
  },
  {
   "cell_type": "markdown",
   "id": "annoying-tolerance",
   "metadata": {},
   "source": [
    "## 単位行列の作成\n",
    "\n",
    "- 単位行列とは、以下の条件を満たす行列のこと\n",
    "  - 正方行列\n",
    "  - 左上から右下までの対角線となる成分が、すべて1となる\n",
    "  - 残りの成分が、すべて0となる"
   ]
  },
  {
   "cell_type": "code",
   "execution_count": 23,
   "id": "congressional-heaven",
   "metadata": {},
   "outputs": [
    {
     "data": {
      "text/plain": [
       "array([[1., 0., 0.],\n",
       "       [0., 1., 0.],\n",
       "       [0., 0., 1.]])"
      ]
     },
     "execution_count": 23,
     "metadata": {},
     "output_type": "execute_result"
    }
   ],
   "source": [
    "np.eye(3)"
   ]
  },
  {
   "cell_type": "markdown",
   "id": "manual-borough",
   "metadata": {},
   "source": [
    "[numpy.eye](https://numpy.org/doc/stable/reference/generated/numpy.eye.html?highlight=eye#numpy.eye)"
   ]
  },
  {
   "cell_type": "markdown",
   "id": "touched-stage",
   "metadata": {},
   "source": [
    "## 指定値で埋める\n",
    "\n",
    "2次元3要素の配列を、`3.14`という値で作成する"
   ]
  },
  {
   "cell_type": "code",
   "execution_count": 24,
   "id": "interested-belle",
   "metadata": {},
   "outputs": [
    {
     "data": {
      "text/plain": [
       "array([[3.14, 3.14, 3.14],\n",
       "       [3.14, 3.14, 3.14]])"
      ]
     },
     "execution_count": 24,
     "metadata": {},
     "output_type": "execute_result"
    }
   ],
   "source": [
    "np.full((2, 3), 3.14)"
   ]
  },
  {
   "cell_type": "markdown",
   "id": "sixth-fourth",
   "metadata": {},
   "source": [
    "[numpy.full](https://numpy.org/doc/stable/reference/generated/numpy.full.html?highlight=full#numpy.full)\n",
    "\n",
    "欠損値の穴埋めに`numpy.nan`という値が利用される\n",
    "\n",
    "- numpy.nan\n",
    "  - 特殊な定数\n",
    "  - `Not a Number`のこと\n",
    "  - float型に分類\n",
    "  - NumPyの以下の事情により用意されている\n",
    "    - ndaarayには同じデータ型のみが格納できるため\n",
    "    - Noneや空文字がある場合に計算不可能となってしまうため\n"
   ]
  },
  {
   "cell_type": "code",
   "execution_count": 25,
   "id": "unauthorized-example",
   "metadata": {},
   "outputs": [
    {
     "data": {
      "text/plain": [
       "array([ 1.,  2., nan])"
      ]
     },
     "execution_count": 25,
     "metadata": {},
     "output_type": "execute_result"
    }
   ],
   "source": [
    "np.array([1, 2, np.nan])"
   ]
  },
  {
   "cell_type": "markdown",
   "id": "considered-press",
   "metadata": {},
   "source": [
    "## データを均等値で割る"
   ]
  },
  {
   "cell_type": "code",
   "execution_count": 26,
   "id": "limiting-involvement",
   "metadata": {},
   "outputs": [
    {
     "data": {
      "text/plain": [
       "array([  0.,  25.,  50.,  75., 100.])"
      ]
     },
     "execution_count": 26,
     "metadata": {},
     "output_type": "execute_result"
    }
   ],
   "source": [
    "# 0から100までに値を分割する　以下例では、5つの要素(4分割)に分けている\n",
    "np.linspace(0, 100, num=5)"
   ]
  },
  {
   "cell_type": "markdown",
   "id": "brief-worthy",
   "metadata": {},
   "source": [
    "[numpy.linspace](https://numpy.org/doc/stable/reference/generated/numpy.linspace.html?highlight=linspace#numpy.linspace)"
   ]
  },
  {
   "cell_type": "markdown",
   "id": "outer-literature",
   "metadata": {},
   "source": [
    "## 連結\n",
    "\n",
    "2つのndarrayを、1つのndarrayに連結する"
   ]
  },
  {
   "cell_type": "code",
   "execution_count": 27,
   "id": "binary-poetry",
   "metadata": {},
   "outputs": [
    {
     "name": "stdout",
     "output_type": "stream",
     "text": [
      "A: \n",
      "[[2 2]\n",
      " [6 1]]\n",
      "B: \n",
      "[[3 9]\n",
      " [6 1]]\n"
     ]
    }
   ],
   "source": [
    "# 連結用データの準備\n",
    "np.random.seed(123)\n",
    "A = np.random.randint(0, 10, size=(2,2))\n",
    "print('A: \\n{}'.format(A))\n",
    "B = np.random.randint(0, 10, size=(2,2))\n",
    "print('B: \\n{}'.format(B))"
   ]
  },
  {
   "cell_type": "markdown",
   "id": "premier-focus",
   "metadata": {},
   "source": [
    "### 列方向の追加(要素の追加)"
   ]
  },
  {
   "cell_type": "code",
   "execution_count": 28,
   "id": "stone-somalia",
   "metadata": {},
   "outputs": [
    {
     "data": {
      "text/plain": [
       "array([[2, 2, 3, 9],\n",
       "       [6, 1, 6, 1]])"
      ]
     },
     "execution_count": 28,
     "metadata": {},
     "output_type": "execute_result"
    }
   ],
   "source": [
    "np.concatenate([A, B], axis=1)"
   ]
  },
  {
   "cell_type": "markdown",
   "id": "muslim-integration",
   "metadata": {},
   "source": [
    "[numpy.concatenate](https://numpy.org/doc/stable/reference/generated/numpy.concatenate.html)"
   ]
  },
  {
   "cell_type": "code",
   "execution_count": 29,
   "id": "constant-deadline",
   "metadata": {},
   "outputs": [
    {
     "data": {
      "text/plain": [
       "array([[2, 2, 3, 9],\n",
       "       [6, 1, 6, 1]])"
      ]
     },
     "execution_count": 29,
     "metadata": {},
     "output_type": "execute_result"
    }
   ],
   "source": [
    "np.hstack([A, B])"
   ]
  },
  {
   "cell_type": "markdown",
   "id": "lovely-jersey",
   "metadata": {},
   "source": [
    "[numpy.hstack](https://numpy.org/doc/stable/reference/generated/numpy.hstack.html#numpy.hstack)\n",
    "\n",
    "horizontal ... 水平線"
   ]
  },
  {
   "cell_type": "markdown",
   "id": "regulation-subsection",
   "metadata": {},
   "source": [
    "### 行方向の追加(次元の追加)"
   ]
  },
  {
   "cell_type": "code",
   "execution_count": 30,
   "id": "endless-german",
   "metadata": {},
   "outputs": [
    {
     "data": {
      "text/plain": [
       "array([[2, 2],\n",
       "       [6, 1],\n",
       "       [3, 9],\n",
       "       [6, 1]])"
      ]
     },
     "execution_count": 30,
     "metadata": {},
     "output_type": "execute_result"
    }
   ],
   "source": [
    "np.concatenate([A, B], axis=0)"
   ]
  },
  {
   "cell_type": "code",
   "execution_count": 31,
   "id": "alert-credit",
   "metadata": {},
   "outputs": [
    {
     "data": {
      "text/plain": [
       "array([[2, 2],\n",
       "       [6, 1],\n",
       "       [3, 9],\n",
       "       [6, 1]])"
      ]
     },
     "execution_count": 31,
     "metadata": {},
     "output_type": "execute_result"
    }
   ],
   "source": [
    "np.vstack([A, B])"
   ]
  },
  {
   "cell_type": "markdown",
   "id": "cross-church",
   "metadata": {},
   "source": [
    "[numpy.vstack](https://numpy.org/doc/stable/reference/generated/numpy.vstack.html)\n",
    "\n",
    "vertical ... 垂直"
   ]
  },
  {
   "cell_type": "markdown",
   "id": "cooperative-blind",
   "metadata": {},
   "source": [
    "## 分割\n",
    "\n",
    "1つのndarrayを、2つのndarrayに分ける"
   ]
  },
  {
   "cell_type": "markdown",
   "id": "bottom-removal",
   "metadata": {},
   "source": [
    "### 列方向に分割(要素で分割)\n",
    "\n",
    "[NumPy.hsplit](https://numpy.org/doc/stable/reference/generated/numpy.hsplit.html)"
   ]
  },
  {
   "cell_type": "code",
   "execution_count": 32,
   "id": "chinese-fighter",
   "metadata": {},
   "outputs": [
    {
     "data": {
      "text/plain": [
       "[array([[ 0,  1,  2],\n",
       "        [ 4,  5,  6],\n",
       "        [ 8,  9, 10],\n",
       "        [12, 13, 14]]),\n",
       " array([[ 3],\n",
       "        [ 7],\n",
       "        [11],\n",
       "        [15]])]"
      ]
     },
     "execution_count": 32,
     "metadata": {},
     "output_type": "execute_result"
    }
   ],
   "source": [
    "# データの用意\n",
    "a = np.arange(16).reshape(4, 4)\n",
    "\n",
    "# 第2引数で3を指定したため、要素数3と1の配列に分割される\n",
    "np.hsplit(a, [3])"
   ]
  },
  {
   "cell_type": "markdown",
   "id": "proud-booking",
   "metadata": {},
   "source": [
    "### 行方向に分割(次元で分割)\n",
    "\n",
    "[NumPy.vsplit](https://numpy.org/doc/stable/reference/generated/numpy.vsplit.html)"
   ]
  },
  {
   "cell_type": "code",
   "execution_count": 33,
   "id": "synthetic-ecuador",
   "metadata": {},
   "outputs": [
    {
     "data": {
      "text/plain": [
       "[array([[ 0,  1,  2,  3],\n",
       "        [ 4,  5,  6,  7],\n",
       "        [ 8,  9, 10, 11]]),\n",
       " array([[12, 13, 14, 15]])]"
      ]
     },
     "execution_count": 33,
     "metadata": {},
     "output_type": "execute_result"
    }
   ],
   "source": [
    "# データの用意\n",
    "a = np.arange(16).reshape(4, 4)\n",
    "\n",
    "# 第2引数で3を指定したため、次元数3と1の配列に分割される\n",
    "np.vsplit(a, [3])"
   ]
  },
  {
   "cell_type": "markdown",
   "id": "connected-weapon",
   "metadata": {},
   "source": [
    "## 転置\n",
    "配列の次元(行)と要素(列)を入れ替える"
   ]
  },
  {
   "cell_type": "code",
   "execution_count": 34,
   "id": "behind-retention",
   "metadata": {},
   "outputs": [
    {
     "data": {
      "text/plain": [
       "array([[2, 2],\n",
       "       [6, 1],\n",
       "       [3, 9],\n",
       "       [6, 1],\n",
       "       [0, 1]])"
      ]
     },
     "execution_count": 34,
     "metadata": {},
     "output_type": "execute_result"
    }
   ],
   "source": [
    "# データの用意\n",
    "np.random.seed(123)\n",
    "m = np.random.randint(0, 10, size=[5, 2])\n",
    "m"
   ]
  },
  {
   "cell_type": "code",
   "execution_count": 35,
   "id": "bridal-inclusion",
   "metadata": {},
   "outputs": [
    {
     "data": {
      "text/plain": [
       "array([[2, 6, 3, 6, 0],\n",
       "       [2, 1, 9, 1, 1]])"
      ]
     },
     "execution_count": 35,
     "metadata": {},
     "output_type": "execute_result"
    }
   ],
   "source": [
    "m.transpose()"
   ]
  },
  {
   "cell_type": "markdown",
   "id": "unlike-sustainability",
   "metadata": {},
   "source": [
    "[numpy.transpose](https://numpy.org/doc/stable/reference/generated/numpy.ndarray.transpose.html?highlight=ndarray%20transpose#numpy.ndarray.transpose)"
   ]
  },
  {
   "cell_type": "code",
   "execution_count": 36,
   "id": "packed-conclusion",
   "metadata": {},
   "outputs": [
    {
     "data": {
      "text/plain": [
       "array([[2, 6, 3, 6, 0],\n",
       "       [2, 1, 9, 1, 1]])"
      ]
     },
     "execution_count": 36,
     "metadata": {},
     "output_type": "execute_result"
    }
   ],
   "source": [
    "# エイリアスがある\n",
    "m.T"
   ]
  },
  {
   "cell_type": "markdown",
   "id": "beneficial-mining",
   "metadata": {},
   "source": [
    "## 次元追加"
   ]
  },
  {
   "cell_type": "code",
   "execution_count": 37,
   "id": "certain-interim",
   "metadata": {},
   "outputs": [
    {
     "name": "stdout",
     "output_type": "stream",
     "text": [
      "ndim: 1\n",
      "[[1 2 3]]\n",
      "ndim: 2\n"
     ]
    }
   ],
   "source": [
    "a = np.array([1, 2, 3])\n",
    "\n",
    "# 行方向にスライシング(2次元配列にする)\n",
    "print('ndim: {}'.format(a.ndim))\n",
    "b = a[np.newaxis, :]\n",
    "print(b)\n",
    "print('ndim: {}'.format(b.ndim))"
   ]
  },
  {
   "cell_type": "code",
   "execution_count": 38,
   "id": "color-fight",
   "metadata": {},
   "outputs": [
    {
     "name": "stdout",
     "output_type": "stream",
     "text": [
      "ndim: 1\n",
      "[[1]\n",
      " [2]\n",
      " [3]]\n",
      "ndim: 2\n"
     ]
    }
   ],
   "source": [
    "a = np.array([1, 2, 3])\n",
    "\n",
    "# 列方向にスライシング\n",
    "print('ndim: {}'.format(a.ndim))\n",
    "b = a[:, np.newaxis]\n",
    "print(b)\n",
    "print('ndim: {}'.format(b.ndim))"
   ]
  },
  {
   "cell_type": "markdown",
   "id": "genuine-taste",
   "metadata": {},
   "source": [
    "- `reshape`と`newaxis`との違い\n",
    "  - `reshape`は要素数を指定する必要がある\n",
    "  - `newaxis`は要素数を指定する必要がない"
   ]
  },
  {
   "cell_type": "markdown",
   "id": "enormous-documentary",
   "metadata": {},
   "source": [
    "## グリッドデータの生成\n",
    "- x座標、y座標の配列から、それらを組み合わせてできる全ての点を生成\n",
    "- 等高線やヒートマップに利用"
   ]
  },
  {
   "cell_type": "code",
   "execution_count": 39,
   "id": "demographic-commissioner",
   "metadata": {},
   "outputs": [
    {
     "name": "stdout",
     "output_type": "stream",
     "text": [
      "m: [0 1 2 3]\n",
      "n: [4 5 6]\n"
     ]
    }
   ],
   "source": [
    "# データの用意\n",
    "m = np.arange(0, 4)\n",
    "print('m: {}'.format(m))\n",
    "n = np.arange(4, 7)\n",
    "print('n: {}'.format(n))"
   ]
  },
  {
   "cell_type": "code",
   "execution_count": 40,
   "id": "incorrect-drilling",
   "metadata": {},
   "outputs": [
    {
     "name": "stdout",
     "output_type": "stream",
     "text": [
      "xx: \n",
      "[[0 1 2 3]\n",
      " [0 1 2 3]\n",
      " [0 1 2 3]]\n",
      "yy: \n",
      "[[4 4 4 4]\n",
      " [5 5 5 5]\n",
      " [6 6 6 6]]\n"
     ]
    }
   ],
   "source": [
    "xx, yy = np.meshgrid(m, n)\n",
    "print('xx: \\n{}'.format(xx))\n",
    "print('yy: \\n{}'.format(yy))"
   ]
  },
  {
   "cell_type": "markdown",
   "id": "earned-record",
   "metadata": {},
   "source": [
    "[numpy.meshgrid](https://numpy.org/doc/stable/reference/generated/numpy.meshgrid.html)\n",
    "\n",
    "> Return coordinate matrices from coordinate vectors.  \n",
    "> 座標ベクトルから座標行列を返す.\n"
   ]
  },
  {
   "cell_type": "markdown",
   "id": "asian-florida",
   "metadata": {},
   "source": [
    "## ユニバーサルファンクション\n",
    "\n",
    "- NumPyの配列(ndarray)の全要素に対して、要素ごとに演算処理を行う関数\n",
    "- map関数みたいなイメージ\n"
   ]
  },
  {
   "cell_type": "markdown",
   "id": "extra-movement",
   "metadata": {},
   "source": [
    "### 絶対値を算出\n",
    "[numpy.absolute](https://numpy.org/doc/stable/reference/generated/numpy.absolute.html?highlight=abs)"
   ]
  },
  {
   "cell_type": "code",
   "execution_count": 41,
   "id": "parliamentary-problem",
   "metadata": {},
   "outputs": [
    {
     "data": {
      "text/plain": [
       "array([[3, 2, 1],\n",
       "       [0, 1, 2]])"
      ]
     },
     "execution_count": 41,
     "metadata": {},
     "output_type": "execute_result"
    }
   ],
   "source": [
    "a = np.arange(-3, 3).reshape(2, 3)\n",
    "np.abs(a)"
   ]
  },
  {
   "cell_type": "markdown",
   "id": "static-columbia",
   "metadata": {},
   "source": [
    "### sin(正弦)の計算\n",
    "[numpy.sin](https://numpy.org/doc/stable/reference/generated/numpy.sin.html?highlight=sin#numpy.sin)"
   ]
  },
  {
   "cell_type": "code",
   "execution_count": 42,
   "id": "threatened-lawyer",
   "metadata": {},
   "outputs": [
    {
     "data": {
      "text/plain": [
       "array([-0.84147098, -0.70169788, -0.52741539, -0.3271947 , -0.11088263,\n",
       "        0.11088263,  0.3271947 ,  0.52741539,  0.70169788,  0.84147098])"
      ]
     },
     "execution_count": 42,
     "metadata": {},
     "output_type": "execute_result"
    }
   ],
   "source": [
    "a = np.linspace(-1, 1, 10)\n",
    "np.sin(a)"
   ]
  },
  {
   "cell_type": "markdown",
   "id": "broke-precipitation",
   "metadata": {},
   "source": [
    "### cos(余弦)の計算\n",
    "[numpy.cos](https://numpy.org/doc/stable/reference/generated/numpy.cos.html?highlight=cos)"
   ]
  },
  {
   "cell_type": "code",
   "execution_count": 43,
   "id": "plain-filling",
   "metadata": {},
   "outputs": [
    {
     "data": {
      "text/plain": [
       "array([0.54030231, 0.71247462, 0.84960756, 0.94495695, 0.99383351,\n",
       "       0.99383351, 0.94495695, 0.84960756, 0.71247462, 0.54030231])"
      ]
     },
     "execution_count": 43,
     "metadata": {},
     "output_type": "execute_result"
    }
   ],
   "source": [
    "a = np.linspace(-1, 1, 10)\n",
    "np.cos(a)"
   ]
  },
  {
   "cell_type": "markdown",
   "id": "empirical-miniature",
   "metadata": {},
   "source": [
    "### 対数関数 $f(x)=log_2x$ の計算\n",
    "\n",
    "[numpy.log2](https://numpy.org/doc/stable/reference/generated/numpy.log2.html)\n",
    "\n",
    "- 底が3や5の対数関数はユニバーサルファンクションで用意されてないぽい？"
   ]
  },
  {
   "cell_type": "code",
   "execution_count": 44,
   "id": "invalid-repository",
   "metadata": {},
   "outputs": [
    {
     "data": {
      "text/plain": [
       "array([3.        , 4.        , 4.32192809])"
      ]
     },
     "execution_count": 44,
     "metadata": {},
     "output_type": "execute_result"
    }
   ],
   "source": [
    "a = np.array([8, 16, 20])\n",
    "np.log2(a)"
   ]
  },
  {
   "cell_type": "markdown",
   "id": "sunrise-eclipse",
   "metadata": {},
   "source": [
    "### 常用対数 $f(x)=log_{10}x$ の計算\n",
    "\n",
    "[numpy.log10](https://numpy.org/doc/stable/reference/generated/numpy.log10.html#numpy.log10)"
   ]
  },
  {
   "cell_type": "code",
   "execution_count": 45,
   "id": "unlimited-somerset",
   "metadata": {},
   "outputs": [
    {
     "data": {
      "text/plain": [
       "array([1.        , 2.        , 2.17609126])"
      ]
     },
     "execution_count": 45,
     "metadata": {},
     "output_type": "execute_result"
    }
   ],
   "source": [
    "a = np.array([10, 100, 150])\n",
    "np.log10(a)"
   ]
  },
  {
   "cell_type": "markdown",
   "id": "bored-memorial",
   "metadata": {},
   "source": [
    "### 自然対数 $f(x)=log_ex$ の計算\n",
    "\n",
    "[numpy.log](https://numpy.org/doc/stable/reference/generated/numpy.log.html#numpy.log)"
   ]
  },
  {
   "cell_type": "code",
   "execution_count": 46,
   "id": "proper-savannah",
   "metadata": {},
   "outputs": [
    {
     "name": "stderr",
     "output_type": "stream",
     "text": [
      "<ipython-input-46-41c45fc026f8>:2: RuntimeWarning: divide by zero encountered in log\n",
      "  np.log(a)\n"
     ]
    },
    {
     "data": {
      "text/plain": [
       "array([      -inf, 0.        , 0.69314718])"
      ]
     },
     "execution_count": 46,
     "metadata": {},
     "output_type": "execute_result"
    }
   ],
   "source": [
    "a = np.array([0, 1, 2])\n",
    "np.log(a)"
   ]
  },
  {
   "cell_type": "markdown",
   "id": "humanitarian-study",
   "metadata": {},
   "source": [
    "xが0である自然対数(x)は定義されていないため`-inf`となる"
   ]
  },
  {
   "cell_type": "markdown",
   "id": "married-findings",
   "metadata": {},
   "source": [
    "### 底をネイピア数とする指数関数 $f(x)=e^x$ の計算\n",
    "\n",
    "[numpy.exp](https://numpy.org/doc/stable/reference/generated/numpy.exp.html?highlight=exp#numpy.exp)"
   ]
  },
  {
   "cell_type": "code",
   "execution_count": 47,
   "id": "opponent-journey",
   "metadata": {},
   "outputs": [
    {
     "data": {
      "text/plain": [
       "array([1.        , 2.71828183, 7.3890561 ])"
      ]
     },
     "execution_count": 47,
     "metadata": {},
     "output_type": "execute_result"
    }
   ],
   "source": [
    "a = np.array([0, 1, 2])\n",
    "np.exp(a)"
   ]
  },
  {
   "cell_type": "markdown",
   "id": "broke-warrant",
   "metadata": {},
   "source": [
    "## ブロードキャスト\n",
    "\n",
    "ndarray同士の二項演算(四則演算など)において、ndarrayの形状(shape)が同じとなるように、自動的に変換して処理してくれる機能"
   ]
  },
  {
   "cell_type": "code",
   "execution_count": 48,
   "id": "enclosed-police",
   "metadata": {},
   "outputs": [
    {
     "data": {
      "text/plain": [
       "array([11, 13, 15])"
      ]
     },
     "execution_count": 48,
     "metadata": {},
     "output_type": "execute_result"
    }
   ],
   "source": [
    "# 配列にスカラーの加算\n",
    "a = np.array([1, 3, 5])\n",
    "a + 10"
   ]
  },
  {
   "cell_type": "code",
   "execution_count": 49,
   "id": "median-carnival",
   "metadata": {},
   "outputs": [
    {
     "data": {
      "text/plain": [
       "array([[ 2,  6, 10],\n",
       "       [ 3,  7, 11]])"
      ]
     },
     "execution_count": 49,
     "metadata": {},
     "output_type": "execute_result"
    }
   ],
   "source": [
    "# 次元数の異なる配列同士の加算\n",
    "a = np.array([1, 3, 5])\n",
    "b = np.array([[1, 3, 5], [2, 4, 6]])\n",
    "a + b"
   ]
  },
  {
   "cell_type": "markdown",
   "id": "preliminary-robert",
   "metadata": {},
   "source": [
    "aの配列が2次元の配列となり(既存の1行目がコピーされて)、加算処理がされている"
   ]
  },
  {
   "cell_type": "code",
   "execution_count": 50,
   "id": "promotional-culture",
   "metadata": {},
   "outputs": [
    {
     "data": {
      "text/plain": [
       "array([[ 2,  4,  6],\n",
       "       [ 4,  6,  8],\n",
       "       [ 6,  8, 10]])"
      ]
     },
     "execution_count": 50,
     "metadata": {},
     "output_type": "execute_result"
    }
   ],
   "source": [
    "# 次元数も要素数も異なる配列同士の加算\n",
    "a = np.array([1, 3, 5])\n",
    "a1 = a[:, np.newaxis]\n",
    "a + a1"
   ]
  },
  {
   "cell_type": "markdown",
   "id": "built-distinction",
   "metadata": {},
   "source": [
    "「1x3」の配列(a)と「3x1」の配列(a1)の加算であるが、それぞれ配列を「3x3」の配列に拡張して処理されている"
   ]
  },
  {
   "cell_type": "code",
   "execution_count": 51,
   "id": "mature-posting",
   "metadata": {},
   "outputs": [
    {
     "data": {
      "text/plain": [
       "array([[ 1,  3,  5],\n",
       "       [ 3,  9, 15],\n",
       "       [ 5, 15, 25]])"
      ]
     },
     "execution_count": 51,
     "metadata": {},
     "output_type": "execute_result"
    }
   ],
   "source": [
    "# 次元数も要素数も異なる配列同士の乗算\n",
    "a = np.array([1, 3, 5])\n",
    "a1 = a[:, np.newaxis]\n",
    "a * a1"
   ]
  },
  {
   "cell_type": "code",
   "execution_count": 52,
   "id": "under-bernard",
   "metadata": {},
   "outputs": [
    {
     "data": {
      "text/plain": [
       "array([  1,  27, 125])"
      ]
     },
     "execution_count": 52,
     "metadata": {},
     "output_type": "execute_result"
    }
   ],
   "source": [
    "## 累乗\n",
    "a = np.array([1, 3, 5])\n",
    "a ** 3"
   ]
  },
  {
   "cell_type": "code",
   "execution_count": 53,
   "id": "outstanding-colonial",
   "metadata": {},
   "outputs": [
    {
     "name": "stderr",
     "output_type": "stream",
     "text": [
      "<ipython-input-53-a0180767f102>:4: RuntimeWarning: divide by zero encountered in true_divide\n",
      "  a / b\n"
     ]
    },
    {
     "data": {
      "text/plain": [
       "array([ 0.,  1., inf])"
      ]
     },
     "execution_count": 53,
     "metadata": {},
     "output_type": "execute_result"
    }
   ],
   "source": [
    "# 割り算(0があるとinfになる)\n",
    "a = np.array([0, 2, 4])\n",
    "b = np.array([4, 2, 0])\n",
    "a / b"
   ]
  },
  {
   "cell_type": "code",
   "execution_count": 54,
   "id": "optical-paint",
   "metadata": {},
   "outputs": [
    {
     "data": {
      "text/plain": [
       "array([0.000000e+00, 9.999995e-01, 4.000000e+06])"
      ]
     },
     "execution_count": 54,
     "metadata": {},
     "output_type": "execute_result"
    }
   ],
   "source": [
    "# 1e-6(10の-6乗)という微小の数値を足した後割り算をすることで、近似値を出力させinfを避ける\n",
    "a = np.array([0, 2, 4])\n",
    "b = np.array([4, 2, 0])\n",
    "a / (b+1e-6)"
   ]
  },
  {
   "cell_type": "markdown",
   "id": "comparable-capitol",
   "metadata": {},
   "source": [
    "## ドット積\n",
    "\n",
    "- ベクトル演算の一種で、2つの同じ長さの数列から1つの数値(スカラー)を返す演算\n",
    "- 幾何的定義では、ユークリッド空間において標準的に定義される内積のこと\n",
    "\n",
    "[numpy.dot](https://numpy.org/doc/stable/reference/generated/numpy.dot.html)\n",
    "\n",
    "> ・If both a and b are 1-D arrays, it is inner product of vectors (without complex conjugation).  \n",
    "> ・If both a and b are 2-D arrays, it is matrix multiplication, but using matmul or a @ b is preferred.  \n",
    "> ・If either a or b is 0-D (scalar), it is equivalent to multiply and using numpy.multiply(a, b) or a * b is preferred.  \n",
    "> ・If a is an N-D array and b is a 1-D array, it is a sum product over the last axis of a and b.  \n",
    "> ・If a is an N-D array and b is an M-D array (where M>=2), it is a sum product over the last axis of a and the second-to-last axis of b.\n"
   ]
  },
  {
   "cell_type": "markdown",
   "id": "previous-sperm",
   "metadata": {},
   "source": [
    "### If both a and b are 1-D arrays, it is inner product of vectors (without complex conjugation)."
   ]
  },
  {
   "cell_type": "code",
   "execution_count": 55,
   "id": "corresponding-router",
   "metadata": {},
   "outputs": [
    {
     "data": {
      "text/plain": [
       "7"
      ]
     },
     "execution_count": 55,
     "metadata": {},
     "output_type": "execute_result"
    }
   ],
   "source": [
    "# aとbがともに1次元の配列: ベクトルの内積\n",
    "a = np.array([1, 2])\n",
    "b = np.array([1, 3])\n",
    "np.dot(a, b)"
   ]
  },
  {
   "cell_type": "markdown",
   "id": "informal-church",
   "metadata": {},
   "source": [
    "### If both a and b are 2-D arrays, it is matrix multiplication, but using matmul or a @ b is preferred."
   ]
  },
  {
   "cell_type": "code",
   "execution_count": 56,
   "id": "single-luxembourg",
   "metadata": {},
   "outputs": [
    {
     "data": {
      "text/plain": [
       "array([[3, 9],\n",
       "       [3, 9]])"
      ]
     },
     "execution_count": 56,
     "metadata": {},
     "output_type": "execute_result"
    }
   ],
   "source": [
    "# aとbの両方が2次元配列: 行列の乗算, matmul or 「a @ b」\n",
    "a = np.array([[1, 2], [1, 2]])\n",
    "b = np.array([[1, 3], [1, 3]])\n",
    "np.dot(a, b)"
   ]
  },
  {
   "cell_type": "code",
   "execution_count": 57,
   "id": "dirty-platform",
   "metadata": {},
   "outputs": [
    {
     "data": {
      "text/plain": [
       "array([[3, 9],\n",
       "       [3, 9]])"
      ]
     },
     "execution_count": 57,
     "metadata": {},
     "output_type": "execute_result"
    }
   ],
   "source": [
    "# 「@」でエイリアスになっている\n",
    "a @ b"
   ]
  },
  {
   "cell_type": "code",
   "execution_count": 58,
   "id": "mighty-ridge",
   "metadata": {},
   "outputs": [
    {
     "data": {
      "text/plain": [
       "array([[3, 9],\n",
       "       [3, 9]])"
      ]
     },
     "execution_count": 58,
     "metadata": {},
     "output_type": "execute_result"
    }
   ],
   "source": [
    "# 「matmul」での同じ結果となる\n",
    "np.matmul(a, b)"
   ]
  },
  {
   "cell_type": "markdown",
   "id": "mighty-typing",
   "metadata": {},
   "source": [
    "[NumPy.matmul](https://numpy.org/doc/stable/reference/generated/numpy.matmul.html?highlight=matmul)\n",
    "\n",
    "> Matrix product of two arrays."
   ]
  },
  {
   "cell_type": "code",
   "execution_count": 59,
   "id": "nervous-reaction",
   "metadata": {},
   "outputs": [
    {
     "name": "stdout",
     "output_type": "stream",
     "text": [
      "[[1. 1. 4.]\n",
      " [5. 1. 1.]\n",
      " [5. 2. 8.]]\n",
      "---\n",
      "[[1. 1. 4.]\n",
      " [5. 1. 1.]\n",
      " [5. 2. 8.]]\n"
     ]
    }
   ],
   "source": [
    "# 正方行列と単位行列の掛け算は、順番を入れ替えても同じになる\n",
    "c = np.random.randint(1, 10, size=(3, 3))\n",
    "d = np.eye(3)\n",
    "print(np.dot(c, d))\n",
    "print('---')\n",
    "print(np.dot(d, c))"
   ]
  },
  {
   "cell_type": "markdown",
   "id": "stopped-portfolio",
   "metadata": {},
   "source": [
    "### If either a or b is 0-D (scalar), it is equivalent to multiply and using numpy.multiply(a, b) or a * b is preferred."
   ]
  },
  {
   "cell_type": "code",
   "execution_count": 60,
   "id": "discrete-builder",
   "metadata": {},
   "outputs": [
    {
     "data": {
      "text/plain": [
       "array([3, 6])"
      ]
     },
     "execution_count": 60,
     "metadata": {},
     "output_type": "execute_result"
    }
   ],
   "source": [
    "# aまたはbのどちらかが0-D（スカラー）の場合: numpy.multiply(a, b)または 「a * b」\n",
    "a = np.array([1, 2])\n",
    "np.dot(a, 3)"
   ]
  },
  {
   "cell_type": "code",
   "execution_count": 61,
   "id": "wicked-trader",
   "metadata": {},
   "outputs": [
    {
     "data": {
      "text/plain": [
       "array([3, 6])"
      ]
     },
     "execution_count": 61,
     "metadata": {},
     "output_type": "execute_result"
    }
   ],
   "source": [
    "np.multiply(a, 3)"
   ]
  },
  {
   "cell_type": "code",
   "execution_count": 62,
   "id": "talented-bacon",
   "metadata": {},
   "outputs": [
    {
     "data": {
      "text/plain": [
       "array([3, 6])"
      ]
     },
     "execution_count": 62,
     "metadata": {},
     "output_type": "execute_result"
    }
   ],
   "source": [
    "a * 3"
   ]
  },
  {
   "cell_type": "markdown",
   "id": "dental-advertiser",
   "metadata": {},
   "source": [
    "### If a is an N-D array and b is a 1-D array, it is a sum product over the last axis of a and b."
   ]
  },
  {
   "cell_type": "code",
   "execution_count": 63,
   "id": "conventional-stylus",
   "metadata": {},
   "outputs": [
    {
     "data": {
      "text/plain": [
       "array([ 9, 13])"
      ]
     },
     "execution_count": 63,
     "metadata": {},
     "output_type": "execute_result"
    }
   ],
   "source": [
    "# aをN次元配列、bを1次元配列の場合: aとbの最後の軸上の和積\n",
    "a = np.array([[1, 2], [1, 3]])\n",
    "b = np.array([1, 4])\n",
    "np.dot(a, b)"
   ]
  },
  {
   "cell_type": "markdown",
   "id": "elect-brown",
   "metadata": {},
   "source": [
    "### If a is an N-D array and b is an M-D array (where M>=2), it is a sum product over the last axis of a and the second-to-last axis of b."
   ]
  },
  {
   "cell_type": "code",
   "execution_count": 64,
   "id": "absent-medication",
   "metadata": {},
   "outputs": [
    {
     "data": {
      "text/plain": [
       "array([[1, 1],\n",
       "       [2, 2]])"
      ]
     },
     "execution_count": 64,
     "metadata": {},
     "output_type": "execute_result"
    }
   ],
   "source": [
    "# aをN次元配列、bをM次元配列(M>=2)の場合: aの最後の軸とbの最後から2番目の軸の和積\n",
    "a = np.array([[1, 1], [2, 2], [3, 3]])\n",
    "b = np.array([[1, 1], [2, 2]])\n",
    "np.dot(1, b)"
   ]
  },
  {
   "cell_type": "markdown",
   "id": "square-roads",
   "metadata": {},
   "source": [
    "## 判定・論理値\n",
    "\n",
    "### 配列とスカラーの比較"
   ]
  },
  {
   "cell_type": "code",
   "execution_count": 65,
   "id": "exterior-newark",
   "metadata": {},
   "outputs": [
    {
     "data": {
      "text/plain": [
       "array([[False, False,  True],\n",
       "       [False, False,  True]])"
      ]
     },
     "execution_count": 65,
     "metadata": {},
     "output_type": "execute_result"
    }
   ],
   "source": [
    "a = np.array([[0, 1, 2], [0, 1, 2]])\n",
    "a > 1"
   ]
  },
  {
   "cell_type": "code",
   "execution_count": 66,
   "id": "knowing-sheet",
   "metadata": {},
   "outputs": [
    {
     "data": {
      "text/plain": [
       "2"
      ]
     },
     "execution_count": 66,
     "metadata": {},
     "output_type": "execute_result"
    }
   ],
   "source": [
    "# Trueの数をカウントする(Falseは0として扱われるので、以下でTrueの数を拾ってこれる)\n",
    "np.count_nonzero(a > 1)"
   ]
  },
  {
   "cell_type": "code",
   "execution_count": 67,
   "id": "quality-clear",
   "metadata": {},
   "outputs": [
    {
     "data": {
      "text/plain": [
       "2"
      ]
     },
     "execution_count": 67,
     "metadata": {},
     "output_type": "execute_result"
    }
   ],
   "source": [
    "# sumでも可能(Trueを1として扱うため)\n",
    "np.sum(a > 1)"
   ]
  },
  {
   "cell_type": "code",
   "execution_count": 68,
   "id": "accepted-customs",
   "metadata": {},
   "outputs": [
    {
     "data": {
      "text/plain": [
       "True"
      ]
     },
     "execution_count": 68,
     "metadata": {},
     "output_type": "execute_result"
    }
   ],
   "source": [
    "# Trueが含まれるかどうか\n",
    "np.any(a > 1)"
   ]
  },
  {
   "cell_type": "code",
   "execution_count": 69,
   "id": "computational-inclusion",
   "metadata": {},
   "outputs": [
    {
     "data": {
      "text/plain": [
       "False"
      ]
     },
     "execution_count": 69,
     "metadata": {},
     "output_type": "execute_result"
    }
   ],
   "source": [
    "# すべてがTrueかどうか\n",
    "np.all(a > 1)"
   ]
  },
  {
   "cell_type": "markdown",
   "id": "designed-latitude",
   "metadata": {},
   "source": [
    "### 判定・論理値の真偽値を利用して、条件に合致する要素のみ出力する"
   ]
  },
  {
   "cell_type": "code",
   "execution_count": 70,
   "id": "olympic-financing",
   "metadata": {},
   "outputs": [
    {
     "data": {
      "text/plain": [
       "array([2, 2])"
      ]
     },
     "execution_count": 70,
     "metadata": {},
     "output_type": "execute_result"
    }
   ],
   "source": [
    "a = np.array([[0, 1, 2], [0, 1, 2]])\n",
    "a[a > 1]"
   ]
  },
  {
   "cell_type": "markdown",
   "id": "spatial-sheet",
   "metadata": {},
   "source": [
    "### 配列同士の比較"
   ]
  },
  {
   "cell_type": "code",
   "execution_count": 71,
   "id": "special-claim",
   "metadata": {},
   "outputs": [
    {
     "data": {
      "text/plain": [
       "array([ True, False])"
      ]
     },
     "execution_count": 71,
     "metadata": {},
     "output_type": "execute_result"
    }
   ],
   "source": [
    "# 同じ形状の配列を比較\n",
    "a = np.array([1, 2])\n",
    "b = np.array([1, 3])\n",
    "a == b"
   ]
  },
  {
   "cell_type": "code",
   "execution_count": 72,
   "id": "narrative-costume",
   "metadata": {},
   "outputs": [
    {
     "data": {
      "text/plain": [
       "array([[ True,  True],\n",
       "       [ True, False]])"
      ]
     },
     "execution_count": 72,
     "metadata": {},
     "output_type": "execute_result"
    }
   ],
   "source": [
    "# 異なる形状の配列を比較(ブロードキャストのルールに従って比較)\n",
    "a = np.array([1, 2])\n",
    "b = np.array([[1, 2], [1, 3]])\n",
    "a == b"
   ]
  },
  {
   "cell_type": "code",
   "execution_count": 73,
   "id": "german-encounter",
   "metadata": {},
   "outputs": [
    {
     "data": {
      "text/plain": [
       "array([[ True,  True],\n",
       "       [ True, False]])"
      ]
     },
     "execution_count": 73,
     "metadata": {},
     "output_type": "execute_result"
    }
   ],
   "source": [
    "# 配列の比較結果を用いたビット演算\n",
    "a = np.array([1, 2])\n",
    "b = np.array([[1, 2], [5, 3]])\n",
    "c = np.array([1, 6])\n",
    "(a == b) | (a == c)"
   ]
  },
  {
   "cell_type": "code",
   "execution_count": 74,
   "id": "declared-value",
   "metadata": {},
   "outputs": [
    {
     "data": {
      "text/plain": [
       "array([1, 2, 5])"
      ]
     },
     "execution_count": 74,
     "metadata": {},
     "output_type": "execute_result"
    }
   ],
   "source": [
    "# 条件の合う要素(Trueとなる要素)のみを配列から取得\n",
    "a = np.array([1, 2])\n",
    "b = np.array([[1, 2], [5, 3]])\n",
    "c = np.array([1, 6])\n",
    "b[(a == b) | (a == c)]"
   ]
  },
  {
   "cell_type": "markdown",
   "id": "excellent-extent",
   "metadata": {},
   "source": [
    "### allcloseメソッド\n",
    "[numpy.allclose](https://numpy.org/doc/stable/reference/generated/numpy.allclose.html)"
   ]
  },
  {
   "cell_type": "code",
   "execution_count": 75,
   "id": "activated-jurisdiction",
   "metadata": {},
   "outputs": [
    {
     "data": {
      "text/plain": [
       "False"
      ]
     },
     "execution_count": 75,
     "metadata": {},
     "output_type": "execute_result"
    }
   ],
   "source": [
    "# 配列同士が同じ要素で構成されているか確認\n",
    "a = np.array([1, 5])\n",
    "b = np.array([1, 10])\n",
    "np.allclose(a, b)"
   ]
  },
  {
   "cell_type": "code",
   "execution_count": 76,
   "id": "latter-thanks",
   "metadata": {},
   "outputs": [
    {
     "data": {
      "text/plain": [
       "True"
      ]
     },
     "execution_count": 76,
     "metadata": {},
     "output_type": "execute_result"
    }
   ],
   "source": [
    "# atolパラメーターで、誤差の範囲を指定して比較する\n",
    "np.allclose(a, b, atol=10)"
   ]
  }
 ],
 "metadata": {
  "kernelspec": {
   "display_name": "Python 3",
   "language": "python",
   "name": "python3"
  },
  "language_info": {
   "codemirror_mode": {
    "name": "ipython",
    "version": 3
   },
   "file_extension": ".py",
   "mimetype": "text/x-python",
   "name": "python",
   "nbconvert_exporter": "python",
   "pygments_lexer": "ipython3",
   "version": "3.8.8"
  }
 },
 "nbformat": 4,
 "nbformat_minor": 5
}
